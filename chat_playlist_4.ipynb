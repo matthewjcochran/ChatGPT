{
 "cells": [
  {
   "cell_type": "code",
   "execution_count": 1,
   "id": "21b43788-b82c-4f3e-9175-9ea43d9410bd",
   "metadata": {},
   "outputs": [
    {
     "name": "stdout",
     "output_type": "stream",
     "text": [
      "Name: openai\n",
      "Version: 1.3.5\n",
      "Summary: The official Python library for the openai API\n",
      "Home-page: \n",
      "Author: \n",
      "Author-email: OpenAI <support@openai.com>\n",
      "License: \n",
      "Location: /Users/matthewcochran/Documents/openai/openai-env/lib/python3.9/site-packages\n",
      "Requires: pydantic, typing-extensions, tqdm, httpx, anyio, distro\n",
      "Required-by: \n"
     ]
    }
   ],
   "source": [
    "! pip3 show openai"
   ]
  },
  {
   "cell_type": "code",
   "execution_count": 2,
   "id": "988fe005-44ee-4845-bb23-a2f4339651cd",
   "metadata": {},
   "outputs": [],
   "source": [
    "from openai import OpenAI"
   ]
  },
  {
   "cell_type": "code",
   "execution_count": 3,
   "id": "cfd2d6c2-3f1f-4652-a2ad-b5c342314114",
   "metadata": {},
   "outputs": [],
   "source": [
    "client = OpenAI(\n",
    "    # Defaults to os.environ.get('OPENAI_API_KEY')\n",
    "    # Otherwise use: api_key='Your_API_Key'\n",
    ")"
   ]
  },
  {
   "cell_type": "code",
   "execution_count": 4,
   "id": "c80d4d1e-54f2-4ce4-a216-3e62224795dc",
   "metadata": {},
   "outputs": [
    {
     "name": "stdout",
     "output_type": "stream",
     "text": [
      "Playlist:\n",
      "(1) \"Money\" by Pink Floyd (7/4)\n",
      "(2) \"Take Five\" by Dave Brubeck Quartet (5/4)\n",
      "(3) \"Heart of the Sunrise\" by Yes (11/8)\n",
      "(4) \"Tom Sawyer\" by Rush (7/8)\n",
      "(5) \"Driven to Tears\" by The Police (7/8)\n",
      "(6) \"YYZ\" by Rush (5/4)\n",
      "(7) \"Born in the U.S.A\" by Bruce Springsteen (2/4)\n",
      "(8) \"Black Dog\" by Led Zeppelin (5/4)\n",
      "\n",
      "Playlist:\n",
      "(1) \"Money\" by Pink Floyd (7/4)\n",
      "(2) \"Tom Sawyer\" by Rush (7/8)\n",
      "(3) \"Bohemian Rhapsody\" by Queen (varies)\n",
      "(4) \"Paranoid Android\" by Radiohead (4/4, 7/8)\n",
      "(5) \"The Ocean\" by Led Zeppelin (4/4, 7/8)\n",
      "(6) \"Hysteria\" by Muse (5/4)\n",
      "(7) \"Heart of the Sunrise\" by Yes (4/4, 11/8, 12/8)\n",
      "(8) \"YYZ\" by Rush (10/8)\n",
      "\n",
      "Playlist:\n",
      "(1) \"Money\" by Pink Floyd (7/4)\n",
      "(2) \"Tom Sawyer\" by Rush (7/8)\n",
      "(3) \"Take Five\" by Dave Brubeck (5/4)\n",
      "(4) \"The Ocean\" by Led Zeppelin (4/4 with sections in 7/8)\n",
      "(5) \"Black Dog\" by Led Zeppelin (5/4)\n",
      "(6) \"Sledgehammer\" by Peter Gabriel (7/8)\n",
      "(7) \"Heart of the Sunrise\" by Yes (11/8)\n",
      "(8) \"YYZ\" by Rush (10/8)\n"
     ]
    }
   ],
   "source": [
    "system_message = '''\n",
    "Create a playlist of eight songs based on a user request.\n",
    "\n",
    "Respond using the following format:\n",
    "Playlist:\n",
    "(1) <song 1>\n",
    "(2) <song 2>\n",
    "and so on\n",
    "'''\n",
    "\n",
    "user_message = '''\n",
    "I'd like to hear songs with a nonstandard time signature.\n",
    "That is, I'd like to hear songs that are not in 4/4.\n",
    "All songs are pop, rock, or metal songs from the 60s, 70s, or 80s.\n",
    "Include the time signature in parenthesis.\n",
    "'''\n",
    "\n",
    "chat_completions = client.chat.completions.create(\n",
    "    messages=[\n",
    "        {'role': 'system', 'content': system_message},    \n",
    "        {'role': 'user', 'content': user_message}],\n",
    "    model='gpt-3.5-turbo',\n",
    "    n=3)\n",
    "\n",
    "playlist0 = chat_completions.choices[0].message.content\n",
    "playlist1 = chat_completions.choices[1].message.content\n",
    "playlist2 = chat_completions.choices[2].message.content\n",
    "\n",
    "print(playlist0 + '\\n\\n' + playlist1 + '\\n\\n' + playlist2)"
   ]
  },
  {
   "cell_type": "code",
   "execution_count": 5,
   "id": "7f127057-2f0e-4d3c-9ac3-aebaa2a126ed",
   "metadata": {},
   "outputs": [
    {
     "data": {
      "text/html": [
       "<!DOCTYPE html>\n",
       "<html>\n",
       "<head>\n",
       "    <title>Playlist</title>\n",
       "    <style>\n",
       "        table {\n",
       "            width: 100%;\n",
       "            border-collapse: collapse;\n",
       "        }\n",
       "        th, td {\n",
       "            border: 1px solid black;\n",
       "            padding: 8px;\n",
       "            text-align: left;\n",
       "        }\n",
       "        th {\n",
       "            background-color: #f2f2f2;\n",
       "        }\n",
       "    </style>\n",
       "</head>\n",
       "<body>\n",
       "    <h1>Playlist</h1>\n",
       "    <table>\n",
       "        <tr>\n",
       "            <th>Track</th>\n",
       "            <th>Song Title</th>\n",
       "            <th>Artist</th>\n",
       "            <th>Link</th>\n",
       "        </tr>\n",
       "        <tr>\n",
       "            <td>1</td>\n",
       "            <td>\"Money\"</td>\n",
       "            <td>Pink Floyd</td>\n",
       "            <td><a target=\"_blank\" href=\"https://www.youtube.com/results?search_query=Pink+Floyd+Money\">Watch</a></td>\n",
       "        </tr>\n",
       "        <tr>\n",
       "            <td>2</td>\n",
       "            <td>\"Take Five\"</td>\n",
       "            <td>Dave Brubeck Quartet</td>\n",
       "            <td><a target=\"_blank\" href=\"https://www.youtube.com/results?search_query=Dave+Brubeck+Quartet+Take+Five\">Watch</a></td>\n",
       "        </tr>\n",
       "        <tr>\n",
       "            <td>3</td>\n",
       "            <td>\"Heart of the Sunrise\"</td>\n",
       "            <td>Yes</td>\n",
       "            <td><a target=\"_blank\" href=\"https://www.youtube.com/results?search_query=Yes+Heart+of+the+Sunrise\">Watch</a></td>\n",
       "        </tr>\n",
       "        <tr>\n",
       "            <td>4</td>\n",
       "            <td>\"Tom Sawyer\"</td>\n",
       "            <td>Rush</td>\n",
       "            <td><a target=\"_blank\" href=\"https://www.youtube.com/results?search_query=Rush+Tom+Sawyer\">Watch</a></td>\n",
       "        </tr>\n",
       "        <tr>\n",
       "            <td>5</td>\n",
       "            <td>\"Driven to Tears\"</td>\n",
       "            <td>The Police</td>\n",
       "            <td><a target=\"_blank\" href=\"https://www.youtube.com/results?search_query=The+Police+Driven+to+Tears\">Watch</a></td>\n",
       "        </tr>\n",
       "        <tr>\n",
       "            <td>6</td>\n",
       "            <td>\"YYZ\"</td>\n",
       "            <td>Rush</td>\n",
       "            <td><a target=\"_blank\" href=\"https://www.youtube.com/results?search_query=Rush+YYZ\">Watch</a></td>\n",
       "        </tr>\n",
       "        <tr>\n",
       "            <td>7</td>\n",
       "            <td>\"Born in the U.S.A\"</td>\n",
       "            <td>Bruce Springsteen</td>\n",
       "            <td><a target=\"_blank\" href=\"https://www.youtube.com/results?search_query=Bruce+Springsteen+Born+in+the+U.S.A\">Watch</a></td>\n",
       "        </tr>\n",
       "        <tr>\n",
       "            <td>8</td>\n",
       "            <td>\"Black Dog\"</td>\n",
       "            <td>Led Zeppelin</td>\n",
       "            <td><a target=\"_blank\" href=\"https://www.youtube.com/results?search_query=Led+Zeppelin+Black+Dog\">Watch</a></td>\n",
       "        </tr>\n",
       "    </table>\n",
       "</body>\n",
       "</html>\n",
       "\n",
       "<!DOCTYPE html>\n",
       "<html>\n",
       "<head>\n",
       "  <title>Playlist</title>\n",
       "  <style>\n",
       "    table {\n",
       "      border-collapse: collapse;\n",
       "    }\n",
       "    th, td {\n",
       "      padding: 10px;\n",
       "      text-align: left;\n",
       "      border-bottom: 1px solid #ddd;\n",
       "    }\n",
       "  </style>\n",
       "</head>\n",
       "<body>\n",
       "  <h1>Playlist</h1>\n",
       "  <table>\n",
       "    <tr>\n",
       "      <th>Track</th>\n",
       "      <th>Song Title</th>\n",
       "      <th>Artist</th>\n",
       "      <th>Youtube Link</th>\n",
       "    </tr>\n",
       "    <tr>\n",
       "      <td>1</td>\n",
       "      <td>\"Money\"</td>\n",
       "      <td>Pink Floyd</td>\n",
       "      <td><a href=\"https://www.youtube.com/results?search_query=Pink+Floyd+Money\">Pink Floyd Money</a></td>\n",
       "    </tr>\n",
       "    <tr>\n",
       "      <td>2</td>\n",
       "      <td>\"Take Five\"</td>\n",
       "      <td>Dave Brubeck Quartet</td>\n",
       "      <td><a href=\"https://www.youtube.com/results?search_query=Dave+Brubeck+Quartet+Take+Five\">Dave Brubeck Quartet Take Five</a></td>\n",
       "    </tr>\n",
       "    <tr>\n",
       "      <td>3</td>\n",
       "      <td>\"Heart of the Sunrise\"</td>\n",
       "      <td>Yes</td>\n",
       "      <td><a href=\"https://www.youtube.com/results?search_query=Yes+Heart+of+the+Sunrise\">Yes Heart of the Sunrise</a></td>\n",
       "    </tr>\n",
       "    <tr>\n",
       "      <td>4</td>\n",
       "      <td>\"Tom Sawyer\"</td>\n",
       "      <td>Rush</td>\n",
       "      <td><a href=\"https://www.youtube.com/results?search_query=Rush+Tom+Sawyer\">Rush Tom Sawyer</a></td>\n",
       "    </tr>\n",
       "    <tr>\n",
       "      <td>5</td>\n",
       "      <td>\"Driven to Tears\"</td>\n",
       "      <td>The Police</td>\n",
       "      <td><a href=\"https://www.youtube.com/results?search_query=The+Police+Driven+to+Tears\">The Police Driven to Tears</a></td>\n",
       "    </tr>\n",
       "    <tr>\n",
       "      <td>6</td>\n",
       "      <td>\"YYZ\"</td>\n",
       "      <td>Rush</td>\n",
       "      <td><a href=\"https://www.youtube.com/results?search_query=Rush+YYZ\">Rush YYZ</a></td>\n",
       "    </tr>\n",
       "    <tr>\n",
       "      <td>7</td>\n",
       "      <td>\"Born in the U.S.A\"</td>\n",
       "      <td>Bruce Springsteen</td>\n",
       "      <td><a href=\"https://www.youtube.com/results?search_query=Bruce+Springsteen+Born+in+the+U.S.A\">Bruce Springsteen Born in the U.S.A</a></td>\n",
       "    </tr>\n",
       "    <tr>\n",
       "      <td>8</td>\n",
       "      <td>\"Black Dog\"</td>\n",
       "      <td>Led Zeppelin</td>\n",
       "      <td><a href=\"https://www.youtube.com/results?search_query=Led+Zeppelin+Black+Dog\">Led Zeppelin Black Dog</a></td>\n",
       "    </tr>\n",
       "  </table>\n",
       "</body>\n",
       "</html>\n",
       "\n",
       "<!DOCTYPE html>\n",
       "<html>\n",
       "<head>\n",
       "  <title>Playlist</title>\n",
       "  <style>\n",
       "    table {\n",
       "      border-collapse: collapse;\n",
       "      width: 100%;\n",
       "    }\n",
       "    th, td {\n",
       "      border: 1px solid black;\n",
       "      padding: 8px;\n",
       "      text-align: left;\n",
       "    }\n",
       "    th {\n",
       "      background-color: #f2f2f2;\n",
       "    }\n",
       "  </style>\n",
       "</head>\n",
       "<body>\n",
       "  <h1>Playlist</h1>\n",
       "  <table>\n",
       "    <tr>\n",
       "      <th>Track</th>\n",
       "      <th>Song Title</th>\n",
       "      <th>Artist</th>\n",
       "      <th>Link</th>\n",
       "    </tr>\n",
       "    <tr>\n",
       "      <td>1</td>\n",
       "      <td>Money</td>\n",
       "      <td>Pink Floyd</td>\n",
       "      <td><a href=\"https://www.youtube.com/results?search_query=Pink+Floyd+Money\" target=\"_blank\">Watch Now</a></td>\n",
       "    </tr>\n",
       "    <tr>\n",
       "      <td>2</td>\n",
       "      <td>Take Five</td>\n",
       "      <td>Dave Brubeck Quartet</td>\n",
       "      <td><a href=\"https://www.youtube.com/results?search_query=Dave+Brubeck+Quartet+Take+Five\" target=\"_blank\">Watch Now</a></td>\n",
       "    </tr>\n",
       "    <tr>\n",
       "      <td>3</td>\n",
       "      <td>Heart of the Sunrise</td>\n",
       "      <td>Yes</td>\n",
       "      <td><a href=\"https://www.youtube.com/results?search_query=Yes+Heart+of+the+Sunrise\" target=\"_blank\">Watch Now</a></td>\n",
       "    </tr>\n",
       "    <tr>\n",
       "      <td>4</td>\n",
       "      <td>Tom Sawyer</td>\n",
       "      <td>Rush</td>\n",
       "      <td><a href=\"https://www.youtube.com/results?search_query=Rush+Tom+Sawyer\" target=\"_blank\">Watch Now</a></td>\n",
       "    </tr>\n",
       "    <tr>\n",
       "      <td>5</td>\n",
       "      <td>Driven to Tears</td>\n",
       "      <td>The Police</td>\n",
       "      <td><a href=\"https://www.youtube.com/results?search_query=The+Police+Driven+to+Tears\" target=\"_blank\">Watch Now</a></td>\n",
       "    </tr>\n",
       "    <tr>\n",
       "      <td>6</td>\n",
       "      <td>YYZ</td>\n",
       "      <td>Rush</td>\n",
       "      <td><a href=\"https://www.youtube.com/results?search_query=Rush+YYZ\" target=\"_blank\">Watch Now</a></td>\n",
       "    </tr>\n",
       "    <tr>\n",
       "      <td>7</td>\n",
       "      <td>Born in the U.S.A</td>\n",
       "      <td>Bruce Springsteen</td>\n",
       "      <td><a href=\"https://www.youtube.com/results?search_query=Bruce+Springsteen+Born+in+the+USA\" target=\"_blank\">Watch Now</a></td>\n",
       "    </tr>\n",
       "    <tr>\n",
       "      <td>8</td>\n",
       "      <td>Black Dog</td>\n",
       "      <td>Led Zeppelin</td>\n",
       "      <td><a href=\"https://www.youtube.com/results?search_query=Led+Zeppelin+Black+Dog\" target=\"_blank\">Watch Now</a></td>\n",
       "    </tr>\n",
       "  </table>\n",
       "</body>\n",
       "</html>"
      ],
      "text/plain": [
       "<IPython.core.display.HTML object>"
      ]
     },
     "metadata": {},
     "output_type": "display_data"
    }
   ],
   "source": [
    "system_message = '''\n",
    "You are given a playlist that inclueds track, song title, and artist.\n",
    "Create a simple HTML page for this playlist.\n",
    "\n",
    "Inclue links to Youtube formatted as follows:\n",
    "https://www.youtube.com/results?search_query=<artist>+<song>\n",
    "\n",
    "Put the playlist in a table that inclues track, song title, artist, and link.\n",
    "'''\n",
    "\n",
    "user_message = playlist0 \n",
    "\n",
    "chat_completions = client.chat.completions.create(\n",
    "    messages=[\n",
    "        {'role': 'system', 'content': system_message},    \n",
    "        {'role': 'user', 'content': user_message}],\n",
    "    model='gpt-3.5-turbo',\n",
    "    n=3)\n",
    "\n",
    "html0 = chat_completions.choices[0].message.content\n",
    "html1 = chat_completions.choices[1].message.content\n",
    "html2 = chat_completions.choices[2].message.content\n",
    "\n",
    "from IPython.display import display, HTML\n",
    "display(HTML(html0 + '\\n\\n' + html1 + '\\n\\n' + html2))"
   ]
  },
  {
   "cell_type": "code",
   "execution_count": 10,
   "id": "749ad028-1593-4879-9a54-743c92281a7e",
   "metadata": {},
   "outputs": [
    {
     "name": "stdout",
     "output_type": "stream",
     "text": [
      "This playlist features a collection of songs that showcase complex time signatures, demonstrating the musicians' technical skills. The playlist starts with the iconic \"Money\" by Pink Floyd in 7/4, followed by the jazz classic \"Take Five\" by the Dave Brubeck Quartet in 5/4. The playlist continues with progressive rock tracks such as \"Heart of the Sunrise\" by Yes in 11/8, \"Tom Sawyer\" by Rush in 7/8, and \"Driven to Tears\" by The Police in 7/8. \"YYZ\" by Rush returns to a 5/4 time signature, while \"Born in the U.S.A.\" by Bruce Springsteen adds a more straightforward 2/4 time signature to the mix. The playlist ends with the energetic \"Black Dog\" by Led Zeppelin in 5/4. Overall, this playlist highlights various artists' ability to incorporate complex rhythms into their music.\n",
      "\n",
      "This playlist features a collection of songs with complex time signatures, predominantly in unconventional meters such as 5/4 and 7/8. The playlist includes iconic bands and artists like Pink Floyd, Dave Brubeck Quartet, Yes, Rush, The Police, Bruce Springsteen, and Led Zeppelin. These songs showcase musicianship and rhythmic experimentation, highlighting the versatility and innovation of these musical acts.\n",
      "\n",
      "This playlist features a collection of songs that have unique and unusual time signatures, showcasing the complexity and diversity of musical rhythms. The playlist includes classic rock bands like Pink Floyd, Rush, Led Zeppelin, and The Police, as well as jazz influence from Dave Brubeck Quartet. The songs range from 2/4 to 11/8 time signatures, showcasing a diverse range of rhythmic patterns that add an interesting and dynamic element to the playlist.\n"
     ]
    }
   ],
   "source": [
    "system_message = '''\n",
    "Describe the following playlist in a few sentences.\n",
    "'''\n",
    "\n",
    "user_message = playlist0\n",
    "\n",
    "chat_completions = client.chat.completions.create(\n",
    "    messages=[\n",
    "        {'role': 'system', 'content': system_message},    \n",
    "        {'role': 'user', 'content': user_message}],\n",
    "    model='gpt-3.5-turbo',\n",
    "    n=3)\n",
    "\n",
    "describe0 = chat_completions.choices[0].message.content\n",
    "describe1 = chat_completions.choices[1].message.content\n",
    "describe2 = chat_completions.choices[2].message.content\n",
    "\n",
    "print(describe0 + '\\n\\n' + describe1 + '\\n\\n' + describe2)"
   ]
  },
  {
   "cell_type": "code",
   "execution_count": 53,
   "id": "db817eb8-03b9-4c02-b50d-f67b6e7671a2",
   "metadata": {},
   "outputs": [],
   "source": [
    "audio = client.audio.speech.create(\n",
    "    model='tts-1-hd',\n",
    "    voice='onyx',\n",
    "    input=describe0\n",
    ")\n",
    "\n",
    "audio.stream_to_file('audio0.mp3')"
   ]
  },
  {
   "cell_type": "code",
   "execution_count": 54,
   "id": "99064e2e-a344-40b3-9d76-96241a9d74a1",
   "metadata": {},
   "outputs": [
    {
     "data": {
      "text/html": [
       "<!DOCTYPE html>\n",
       "<html>\n",
       "  <head>\n",
       "    <title>Audio File Link</title>\n",
       "  </head>\n",
       "  <body>\n",
       "    <h1>Audio Player</h1>\n",
       "    <a href=\"audio0.mp3\" target=\"_blank\">Click here to listen to the audio file</a>\n",
       "  </body>\n",
       "</html>"
      ],
      "text/plain": [
       "<IPython.core.display.HTML object>"
      ]
     },
     "metadata": {},
     "output_type": "display_data"
    }
   ],
   "source": [
    "user_message = '''\n",
    "Create a simple HTML file with a link to the audio file audio0.mp3.\n",
    "'''\n",
    "\n",
    "chat_completions = client.chat.completions.create(\n",
    "    messages=[    \n",
    "        {'role': 'user', 'content': user_message}],\n",
    "    model='gpt-3.5-turbo',\n",
    "    n=3)\n",
    "\n",
    "audio0 = chat_completions.choices[0].message.content\n",
    "audio1 = chat_completions.choices[1].message.content\n",
    "ausio2 = chat_completions.choices[2].message.content\n",
    "\n",
    "display(HTML(audio0))"
   ]
  },
  {
   "cell_type": "code",
   "execution_count": 25,
   "id": "2a02c23a-b79e-4708-a7ca-092f5530f808",
   "metadata": {},
   "outputs": [],
   "source": [
    "images = client.images.generate(\n",
    "    prompt=describe0,\n",
    "    model=\"dall-e-3\",\n",
    "    size=\"1024x1024\",\n",
    "    quality=\"standard\",\n",
    "    n=1,\n",
    ")\n",
    "\n",
    "image_url0 = images.data[0].url\n",
    "print(image_url0)\n",
    "\n",
    "# only n=1 is allowed at this time\n",
    "# had to hand save from url"
   ]
  },
  {
   "cell_type": "code",
   "execution_count": 35,
   "id": "ab9c8d8e-bafc-4f55-8fde-d3907492033c",
   "metadata": {},
   "outputs": [
    {
     "data": {
      "text/html": [
       "<!DOCTYPE html>\n",
       "<html>\n",
       "<head>\n",
       "    <title>Image Table</title>\n",
       "    <style>\n",
       "        table {\n",
       "            width: 100%;\n",
       "        }\n",
       "        img {\n",
       "            max-width: 100%;\n",
       "            height: auto;\n",
       "        }\n",
       "    </style>\n",
       "</head>\n",
       "<body>\n",
       "    <table>\n",
       "        <tr>\n",
       "            <td><img src=\"image0.png\" alt=\"Image 0\"></td>\n",
       "            <td><img src=\"image1.png\" alt=\"Image 1\"></td>\n",
       "        </tr>\n",
       "        <tr>\n",
       "            <td><img src=\"image2.png\" alt=\"Image 2\"></td>\n",
       "            <td><img src=\"image3.png\" alt=\"Image 3\"></td>\n",
       "        </tr>\n",
       "        <tr>\n",
       "            <td><img src=\"image4.png\" alt=\"Image 4\"></td>\n",
       "            <td><img src=\"image5.png\" alt=\"Image 5\"></td>\n",
       "        </tr>\n",
       "    </table>\n",
       "</body>\n",
       "</html>"
      ],
      "text/plain": [
       "<IPython.core.display.HTML object>"
      ]
     },
     "metadata": {},
     "output_type": "display_data"
    }
   ],
   "source": [
    "user_message = '''\n",
    "Create a simple HTML file with a table of images.\n",
    "The table has three rows and two columns.\n",
    "The images are labeled image0.png, image1.png, and so on.\n",
    "Make the images as big as possible.\n",
    "'''\n",
    "\n",
    "chat_completions = client.chat.completions.create(\n",
    "    messages=[    \n",
    "        {'role': 'user', 'content': user_message}],\n",
    "    model='gpt-3.5-turbo',\n",
    "    n=3)\n",
    "\n",
    "art0 = chat_completions.choices[0].message.content\n",
    "art1 = chat_completions.choices[1].message.content\n",
    "art2 = chat_completions.choices[2].message.content\n",
    "\n",
    "display(HTML(art0))"
   ]
  },
  {
   "cell_type": "code",
   "execution_count": 37,
   "id": "f6f30694-9c1c-43ec-befc-ef07614adb27",
   "metadata": {},
   "outputs": [],
   "source": [
    "url0 = 'https://github.com/matthewjcochran/ChatGPT/blob/main/image0.png?raw=true'\n",
    "url1 = 'https://github.com/matthewjcochran/ChatGPT/blob/main/image1.png?raw=true'\n",
    "url2 = 'https://github.com/matthewjcochran/ChatGPT/blob/main/image2.png?raw=true'\n",
    "url3 = 'https://github.com/matthewjcochran/ChatGPT/blob/main/image3.png?raw=true'\n",
    "url4 = 'https://github.com/matthewjcochran/ChatGPT/blob/main/image4.png?raw=true'\n",
    "url5 = 'https://github.com/matthewjcochran/ChatGPT/blob/main/image5.png?raw=true'"
   ]
  },
  {
   "cell_type": "code",
   "execution_count": 44,
   "id": "1045e16c-20c5-4eba-94ab-2bbcf6e2b2ae",
   "metadata": {},
   "outputs": [
    {
     "name": "stdout",
     "output_type": "stream",
     "text": [
      "This image depicts a complex, colorful, isometric illustration that resembles a three-dimensional structure or maze. It has a retro-futuristic vibe, with various elements that look like geometric blocks stacked in a detailed and organized pattern, creating a labyrinthine construction. There are numbers scattered throughout, possibly indicating specific parts or levels within the structure. It has an overall abstract and architectural aesthetic, with a vibrant color palette and a sense of depth achieved through shading and perspective. The background is a warm yellow-orange color transitioning to pink, with the image framed to give a sense of layering or a cutaway view. It appears to be a digital artwork or illustration.\n"
     ]
    }
   ],
   "source": [
    "chat_completions = client.chat.completions.create(\n",
    "    model=\"gpt-4-vision-preview\",\n",
    "    messages=[\n",
    "    {'role': 'user', 'content': [\n",
    "        {'type': 'text', 'text': 'What’s in this image?'},\n",
    "        {'type': 'image_url', 'image_url': {'url': url0}}]}],\n",
    "    max_tokens=300,\n",
    "    n=1)\n",
    "\n",
    "vision0 = chat_completions.choices[0].message.content\n",
    "print(vision0)"
   ]
  },
  {
   "cell_type": "code",
   "execution_count": 45,
   "id": "90906387-7de2-4d72-ab94-1fbb16985996",
   "metadata": {},
   "outputs": [
    {
     "name": "stdout",
     "output_type": "stream",
     "text": [
      "This is a colorful digital art piece featuring an array of musical symbols and elements. The artwork includes a variety of notes such as the treble clef, bass clef, quarter notes, eighth notes, and beamed notes, among others. It also includes symbols like the fermata, crescendo, and decrescendo markings, and staff lines.\n",
      "\n",
      "The background is divided into sections with gradients of different colors, ranging from blues and purples to oranges and reds, creating a vivid, rainbow-like effect. There seems to be a subtle circular pattern in the center that gives a sense of movement, possibly representing the rhythm and flow of music. The entire composition has a detailed, layered look, and the use of various shades and tints adds depth to the image, conveying the complexity and richness of music.\n"
     ]
    }
   ],
   "source": [
    "chat_completions = client.chat.completions.create(\n",
    "    model=\"gpt-4-vision-preview\",\n",
    "    messages=[\n",
    "    {'role': 'user', 'content': [\n",
    "        {'type': 'text', 'text': 'What’s in this image?'},\n",
    "        {'type': 'image_url', 'image_url': {'url': url1}}]}],\n",
    "    max_tokens=300,\n",
    "    n=1)\n",
    "\n",
    "vision0 = chat_completions.choices[0].message.content\n",
    "print(vision0)"
   ]
  },
  {
   "cell_type": "code",
   "execution_count": 46,
   "id": "44576155-25ae-4a5a-a8b2-acd26cd6faf6",
   "metadata": {},
   "outputs": [
    {
     "name": "stdout",
     "output_type": "stream",
     "text": [
      "This image features a stylized graphic likely representing data or information related to music. The graphic design resembles circular dials or infographics with various segments, each coded with different colors and patterns. It seems to be organized with labels indicating different musical genres such as Rock, Jazz, Progressive Rock, and sections with time signatures like 8/4, 7/4, and others, suggesting a relationship to musical rhythm or composition.\n",
      "\n",
      "Specific terms like \"Groove Bilir,\" \"Swing,\" and \"Deviniş,\" among others, are visible, implying that this could be illustrating musical concepts, rhythms, or the structure of songs within those genres. There are also musical notes and symbols interspersed throughout the design which adds to the musical theme of the graphic.\n",
      "\n",
      "Moreover, there's a suggestion of interactivity, as we can see a play button at the bottom of what could be a screen or interface, implying that this may be a digital application related to music education or music theory visualization. The precise function of the infographics is not entirely clear without additional context.\n"
     ]
    }
   ],
   "source": [
    "chat_completions = client.chat.completions.create(\n",
    "    model=\"gpt-4-vision-preview\",\n",
    "    messages=[\n",
    "    {'role': 'user', 'content': [\n",
    "        {'type': 'text', 'text': 'What’s in this image?'},\n",
    "        {'type': 'image_url', 'image_url': {'url': url2}}]}],\n",
    "    max_tokens=300,\n",
    "    n=1)\n",
    "\n",
    "vision0 = chat_completions.choices[0].message.content\n",
    "print(vision0)"
   ]
  },
  {
   "cell_type": "code",
   "execution_count": 47,
   "id": "1686063c-e31e-4b17-9878-8fe2dfb62898",
   "metadata": {},
   "outputs": [
    {
     "name": "stdout",
     "output_type": "stream",
     "text": [
      "The image displays a collection of stylized illustrations depicting what appear to be visual representations of audio waveforms, very much resembling a retro or vintage aesthetic. Each illustration is framed within a panel that mimics an old-school tape machine or audio equalizer, with various meters, dials, and VU-meters.\n",
      "\n",
      "These waveforms are likely meant to represent different types of music or audio patterns, with labels under each panel that suggest genres like rock or jazz, followed by time signatures or other descriptors. The use of terms such as \"ROCK\" or \"JAZZ\" along with numeric time signatures (e.g., 7/4, 11/8, etc.) implies a musical theme, possibly alluding to the rhythmic or structural aspects of these genres.\n",
      "\n",
      "The fonts and design elements used in the image evoke a sense of nostalgia, reminiscent of the mid-20th century technology and design. The panels are organized in a grid format with each waveform image uniquely colored and patterned, which adds to the visual interest and suggests several different 'tracks' or songs. Overall, the image is a creative blend of music visualization, graphic design, and perhaps a nod to vintage audio equipment.\n"
     ]
    }
   ],
   "source": [
    "chat_completions = client.chat.completions.create(\n",
    "    model=\"gpt-4-vision-preview\",\n",
    "    messages=[\n",
    "    {'role': 'user', 'content': [\n",
    "        {'type': 'text', 'text': 'What’s in this image?'},\n",
    "        {'type': 'image_url', 'image_url': {'url': url3}}]}],\n",
    "    max_tokens=300,\n",
    "    n=1)\n",
    "\n",
    "vision0 = chat_completions.choices[0].message.content\n",
    "print(vision0)"
   ]
  },
  {
   "cell_type": "code",
   "execution_count": 48,
   "id": "71619034-7ed8-437c-ad74-210bb846af26",
   "metadata": {},
   "outputs": [
    {
     "name": "stdout",
     "output_type": "stream",
     "text": [
      "This image appears to be a stylized graphic themed around music, specifically focusing on complex time signatures. It features a bright, glowing aesthetic with futuristic elements and what looks like a grid or graph in the background, giving it a high-tech feel. The text \"COMPLEX TIME SIGNATURES\" is prominently displayed at the top. Various time signatures are listed beside musical notes, such as 7/8, 7/11/8, 3/4, 7/1, 5/6, 2/1/8, 13/8, 0/6, 5/4, and 5/3, indicating the different meters in which music can be composed and played.\n",
      "\n",
      "Additionally, it includes a few text references that might be related to specific musical pieces or concepts:\n",
      "\n",
      "- \"MONEY\" next to 7/8 could be a reference to the song \"Money\" by Pink Floyd, which is known for its 7/4 time signature (although here it's listed as 7/8).\n",
      "- \"Hnke Hive\" is unclear but may be a stylized or misspelled reference to a musical work or concept.\n",
      "- \"Progistugenic\" seems to be a play on the words \"progressive\" and \"eugenic,\" perhaps suggesting music that is progressive in nature but does not relate to an actual musical term. It could be made-up for the image.\n",
      "- \"Take Five\" next to 5\n"
     ]
    }
   ],
   "source": [
    "chat_completions = client.chat.completions.create(\n",
    "    model=\"gpt-4-vision-preview\",\n",
    "    messages=[\n",
    "    {'role': 'user', 'content': [\n",
    "        {'type': 'text', 'text': 'What’s in this image?'},\n",
    "        {'type': 'image_url', 'image_url': {'url': url4}}]}],\n",
    "    max_tokens=300,\n",
    "    n=1)\n",
    "\n",
    "vision0 = chat_completions.choices[0].message.content\n",
    "print(vision0)"
   ]
  },
  {
   "cell_type": "code",
   "execution_count": 49,
   "id": "0ddf79e7-39aa-4235-9bb4-ada9af4be47f",
   "metadata": {},
   "outputs": [
    {
     "name": "stdout",
     "output_type": "stream",
     "text": [
      "The image you've shared is a visually complex artwork comprised of various squares, each with its own distinct graphic design, many of which are related to music. Each square appears to represent different concepts or elements, possibly as part of a puzzle or game. The general style is reminiscent of vintage graphic design with bold colors and stylized illustrations. Here is a breakdown of some of the elements I see:\n",
      "\n",
      "1. The top left corner features a piano and a sheet of music with the title \"Complec Bintuecee.\"\n",
      "2. To the right of the piano, there are two coins with profiles of people and a stylized representation of musical notes and a piano keyboard.\n",
      "3. The top right corner displays a musical staff with the label \"Jazz Standard\" and icons suggesting musical notation and rhythm.\n",
      "4. The second row on the left shows part of a treble clef and staves with a colorful wave pattern.\n",
      "5. There's a hand with the number five and rays emanating behind it in a celebratory motif.\n",
      "6. A stylized helmet with the word \"Dnigol\" (which may be deliberately inverted or scrambled) and a racing stripe.\n",
      "7. The center square in the bottom row features more colorful musical notes on a stave, with a small dog silhouette on top of an old-fashioned radio and an arrow pointing upwards.\n",
      "8. The bottom right showcases a dog in a dynamic pose with vibrant colors emphasizing movement.\n",
      "\n",
      "Overall, the image could suggest a music-related\n"
     ]
    }
   ],
   "source": [
    "chat_completions = client.chat.completions.create(\n",
    "    model=\"gpt-4-vision-preview\",\n",
    "    messages=[\n",
    "    {'role': 'user', 'content': [\n",
    "        {'type': 'text', 'text': 'What’s in this image?'},\n",
    "        {'type': 'image_url', 'image_url': {'url': url5}}]}],\n",
    "    max_tokens=300,\n",
    "    n=1)\n",
    "\n",
    "vision0 = chat_completions.choices[0].message.content\n",
    "print(vision0)"
   ]
  },
  {
   "cell_type": "code",
   "execution_count": null,
   "id": "d5db41b0-06f3-4cda-a954-0c7e0ec2dd02",
   "metadata": {},
   "outputs": [],
   "source": []
  },
  {
   "cell_type": "code",
   "execution_count": null,
   "id": "4d347070-b2ea-48a8-8d94-588336f8a2c4",
   "metadata": {},
   "outputs": [],
   "source": []
  },
  {
   "cell_type": "code",
   "execution_count": null,
   "id": "e5afdbd6-ab82-42b7-a3fc-684d83a834d3",
   "metadata": {},
   "outputs": [],
   "source": []
  }
 ],
 "metadata": {
  "kernelspec": {
   "display_name": "Python 3 (ipykernel)",
   "language": "python",
   "name": "python3"
  },
  "language_info": {
   "codemirror_mode": {
    "name": "ipython",
    "version": 3
   },
   "file_extension": ".py",
   "mimetype": "text/x-python",
   "name": "python",
   "nbconvert_exporter": "python",
   "pygments_lexer": "ipython3",
   "version": "3.9.6"
  }
 },
 "nbformat": 4,
 "nbformat_minor": 5
}

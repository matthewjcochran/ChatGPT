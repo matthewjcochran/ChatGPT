{
 "cells": [
  {
   "cell_type": "code",
   "execution_count": 1,
   "id": "988fe005-44ee-4845-bb23-a2f4339651cd",
   "metadata": {},
   "outputs": [],
   "source": [
    "from openai import OpenAI"
   ]
  },
  {
   "cell_type": "code",
   "execution_count": 2,
   "id": "42300a92-7dbf-40a6-90ca-1ded9cee6c92",
   "metadata": {},
   "outputs": [],
   "source": [
    "client = OpenAI()"
   ]
  },
  {
   "cell_type": "code",
   "execution_count": 3,
   "id": "882d2aa2-5430-48d0-b4ac-fc15e5e6bafc",
   "metadata": {},
   "outputs": [],
   "source": [
    "def get_response(messages):\n",
    "    chat_completions = client.chat.completions.create(\n",
    "        messages=messages,\n",
    "        model='gpt-4')\n",
    "    response = chat_completions.choices[0].message.content\n",
    "    return response"
   ]
  },
  {
   "cell_type": "code",
   "execution_count": 4,
   "id": "b52543f6-bcaa-4181-9f27-abde9eca9cf6",
   "metadata": {},
   "outputs": [],
   "source": [
    "def character_system(movie, character):\n",
    "    return f'''\n",
    "You are the character {character} in the movie {movie}.\n",
    "Say your next line or lines.\n",
    "You are worried about the future.\n",
    "\n",
    "The input is a scene description and character dialog that take the following form:\n",
    "<scene description>\n",
    "####\n",
    "Character1: <character 1 line or lines>\n",
    "Character2: <character 2 line or lines>\n",
    "where there may be more or less dialog\n",
    "\n",
    "The output <your character name>: <your line in a single paragraph without fancy formatting>\n",
    "'''"
   ]
  },
  {
   "cell_type": "code",
   "execution_count": 5,
   "id": "e7ad0981-900b-48f1-8647-8f7a0b8c329f",
   "metadata": {},
   "outputs": [],
   "source": [
    "character1_system = character_system('Star Wars', 'Princess Leia')\n",
    "character2_system = character_system('Star Wars', 'Han Solo')\n",
    "character3_system = character_system('Star Wars', 'C3PO')\n",
    "\n",
    "scene_system = '''\n",
    "Describe the scene with a few sentences.\n",
    "\n",
    "Here are some elements of scene description:\n",
    "* Describes the setting.\n",
    "* Details what can be seen or heard in the scene.\n",
    "* Write in the present tense to convey a sense of immediacy.\n",
    "* Do not describe dialogue.\n",
    "* Avoids camera direction.\n",
    "\n",
    "This input is character dialog that take the following form:\n",
    "Character1: <character 1 line or lines>\n",
    "Character2: <character 2 line or lines>\n",
    "where there may be more or less dialog\n",
    "\n",
    "The output is a single paragraph without fancy formatting.\n",
    "'''"
   ]
  },
  {
   "cell_type": "code",
   "execution_count": 6,
   "id": "f726fa45-dfc4-47ed-9af3-376770f9f44a",
   "metadata": {},
   "outputs": [],
   "source": [
    "character1_thread = [{'role': 'system', 'content': character1_system}]\n",
    "character2_thread = [{'role': 'system', 'content': character2_system}]\n",
    "character3_thread = [{'role': 'system', 'content': character3_system}]\n",
    "scene_thread = [{'role': 'system', 'content': scene_system}]"
   ]
  },
  {
   "cell_type": "code",
   "execution_count": 7,
   "id": "8c781c52-cb2b-4299-9889-902bec439c1b",
   "metadata": {},
   "outputs": [
    {
     "name": "stdout",
     "output_type": "stream",
     "text": [
      "The Millennium Falcon is just entering an asteroid field.\n",
      "\n",
      "Princess Leia: Asteroinds!\n",
      "\n",
      "Han Solo: Ah crap!\n",
      "\n",
      "C3PO: Sir, the possibility of successfully navigating an asteroid field is approximately 3,720 to 1!\n"
     ]
    }
   ],
   "source": [
    "scene_response = 'The Millennium Falcon is just entering an asteroid field.'\n",
    "character1_response = 'Princess Leia: Asteroinds!'\n",
    "character2_response = 'Han Solo: Ah crap!'\n",
    "\n",
    "message = '\\n'.join([scene_response, '####', character1_response, character2_response])\n",
    "character3_thread.append({'role': 'user', 'content': message})\n",
    "character3_response = get_response(character3_thread)\n",
    "character3_thread.append({'role': 'assistant', 'content': character3_response})\n",
    "\n",
    "print('\\n\\n'.join([scene_response, character1_response, character2_response, character3_response]))"
   ]
  },
  {
   "cell_type": "code",
   "execution_count": 8,
   "id": "4063e558-edf9-4cd7-8ca6-049242cd6161",
   "metadata": {},
   "outputs": [
    {
     "name": "stdout",
     "output_type": "stream",
     "text": [
      "The moment is tense aboard the Millennium Falcon. Princess Leia spots the imminent danger of an asteroid field before them. Han Solo grimaces in frustration, already plagued with the difficulty of escape. Amidst all of this, C3PO recites calculated odds of survival, noting the almost impossible chance of successfully traversing the asteroid field unscathed.\n",
      "\n",
      "Princess Leia: Never tell me the odds, C3PO. We've faced worse odds before. This is our only way out, Han. We have to beat the odds, for the Rebellion, for a better future.\n",
      "\n",
      "Han Solo: For the Rebellion, huh? I didn't sign on for noble causes. Just trying my luck for another day of survival. But it seems like beating the odds is all we got. Just have to work the ol' Falcon magic. Everybody buckle up, this is going to be one hell of a ride.\n",
      "\n",
      "C3PO: Indeed, it appears we have no other alternative, and while I understand and respect your optimism, I must advise caution. The calculations for survival are rather bleak and navigating through an asteroid field is fraught with danger. But rest assured, I am programmed to assist in any way possible. Please be safe.\n"
     ]
    }
   ],
   "source": [
    "message = '\\n'.join([character1_response, character2_response, character3_response])\n",
    "scene_thread.append({'role': 'user', 'content': message})\n",
    "scene_response = get_response(scene_thread)\n",
    "scene_thread.append({'role': 'assistant', 'content': scene_response})\n",
    "\n",
    "message = '\\n'.join([scene_response, '####', character2_response, character3_response])\n",
    "character1_thread.append({'role': 'user', 'content': message})\n",
    "character1_response = get_response(character1_thread)\n",
    "character1_thread.append({'role': 'assistant', 'content': character1_response})\n",
    "\n",
    "message = '\\n'.join([scene_response, '####', character3_response, character1_response])\n",
    "character2_thread.append({'role': 'user', 'content': message})\n",
    "character2_response = get_response(character2_thread)\n",
    "character2_thread.append({'role': 'assistant', 'content': character2_response})\n",
    "\n",
    "message = '\\n'.join([scene_response, '####', character1_response, character2_response])\n",
    "character3_thread.append({'role': 'user', 'content': message})\n",
    "character3_response = get_response(character3_thread)\n",
    "character3_thread.append({'role': 'assistant', 'content': character3_response})\n",
    "\n",
    "print('\\n\\n'.join([scene_response, character1_response, character2_response, character3_response]))"
   ]
  },
  {
   "cell_type": "code",
   "execution_count": 9,
   "id": "7b37a958-60d1-4c4c-a585-95cdd7c3d637",
   "metadata": {},
   "outputs": [
    {
     "name": "stdout",
     "output_type": "stream",
     "text": [
      "Princess Leia's defiant voice fills the spaceship's cockpit, reminding everyone of the vital mission they have undertaken for the Rebellion. Han Solo, despite his fundamentally self-centered motives, acknowledges the gravity of their situation and prepares to test his spacecraft piloting skills to their limits. Meanwhile, C3PO, always the voice of precaution and reason, warns them yet again of the near-suicidal odds they face, even as he assures them of his support. A palpable layer of anxiety, determination, and surprisingly, hope, hangs over the Millennium Falcon as they face the asteroid field ahead.\n",
      "\n",
      "Princess Leia: And we appreciate that, C3PO. But remember, sometimes you have to take risks to achieve the impossible. Our cause isn't just noble, Han, it's necessary. Steer us through this, just as you've always done. We're in this together. Just like the Rebellion.\n",
      "\n",
      "Han Solo: You've got a way with words, Princess. We're all tied up in this mess together, for better or worse. Let's see how this ol' hunk of junk holds up against a few rocks. And C3PO, you better be ready to do some quick calculations. I have a feeling we're gonna need them.\n",
      "\n",
      "C3PO: Absolutely, Captain Solo. I will be at the ready to compute any necessary trajectories or escape routes. Nothing in my programming could have prepared me for this... but then, I suppose that's why we must rely on both droids and humans. Together, we will try to make it through.\n"
     ]
    }
   ],
   "source": [
    "message = '\\n'.join([character1_response, character2_response, character3_response])\n",
    "scene_thread.append({'role': 'user', 'content': message})\n",
    "scene_response = get_response(scene_thread)\n",
    "scene_thread.append({'role': 'assistant', 'content': scene_response})\n",
    "\n",
    "message = '\\n'.join([scene_response, '####', character2_response, character3_response])\n",
    "character1_thread.append({'role': 'user', 'content': message})\n",
    "character1_response = get_response(character1_thread)\n",
    "character1_thread.append({'role': 'assistant', 'content': character1_response})\n",
    "\n",
    "message = '\\n'.join([scene_response, '####', character3_response, character1_response])\n",
    "character2_thread.append({'role': 'user', 'content': message})\n",
    "character2_response = get_response(character2_thread)\n",
    "character2_thread.append({'role': 'assistant', 'content': character2_response})\n",
    "\n",
    "message = '\\n'.join([scene_response, '####', character1_response, character2_response])\n",
    "character3_thread.append({'role': 'user', 'content': message})\n",
    "character3_response = get_response(character3_thread)\n",
    "character3_thread.append({'role': 'assistant', 'content': character3_response})\n",
    "\n",
    "print('\\n\\n'.join([scene_response, character1_response, character2_response, character3_response]))"
   ]
  },
  {
   "cell_type": "code",
   "execution_count": 10,
   "id": "7832c0ad-e27e-426f-ab8d-1c784eae5665",
   "metadata": {},
   "outputs": [
    {
     "name": "stdout",
     "output_type": "stream",
     "text": [
      "Suddenly, two Star Destroyers drop out of hyperspace. Tie fighters approach.\n",
      "\n",
      "Leia: What the... What!?\n",
      "\n",
      "Han: Two Star Destroyers coming right at us.\n",
      "\n",
      "C3PO: Oh dear, this complicates things significantly. Now we have not only the unpredictable asteroid field, but also two Star Destroyers. The statistical risk has just escalated exponentially!\n"
     ]
    }
   ],
   "source": [
    "# This one is hand typed.  No AI.\n",
    "\n",
    "message = '\\n'.join([character1_response, character2_response, character3_response])\n",
    "scene_thread.append({'role': 'user', 'content': message})\n",
    "scene_response = 'Suddenly, two Star Destroyers drop out of hyperspace. Tie fighters approach.' \n",
    "scene_thread.append({'role': 'assistant', 'content': scene_response})\n",
    "\n",
    "message = '\\n'.join([scene_response, '####', character2_response, character3_response])\n",
    "character1_thread.append({'role': 'user', 'content': message})\n",
    "character1_response = 'Leia: What the... What!?'\n",
    "character1_thread.append({'role': 'assistant', 'content': character1_response})\n",
    "\n",
    "message = '\\n'.join([scene_response, '####', character3_response, character1_response])\n",
    "character2_thread.append({'role': 'user', 'content': message})\n",
    "character2_response = 'Han: Two Star Destroyers coming right at us.'\n",
    "character2_thread.append({'role': 'assistant', 'content': character2_response})\n",
    "\n",
    "message = '\\n'.join([scene_response, '####', character1_response, character2_response])\n",
    "character3_thread.append({'role': 'user', 'content': message})\n",
    "character3_response = get_response(character3_thread)\n",
    "character3_thread.append({'role': 'assistant', 'content': character3_response})\n",
    "\n",
    "print('\\n\\n'.join([scene_response, character1_response, character2_response, character3_response]))"
   ]
  },
  {
   "cell_type": "code",
   "execution_count": 11,
   "id": "85449bc8-8b25-44a3-a69c-fce6afd0f788",
   "metadata": {},
   "outputs": [
    {
     "name": "stdout",
     "output_type": "stream",
     "text": [
      "Princess Leia registers surprise and alarm as two Star Destroyers make a sudden entry. Han Solo swiftly identifies the new, larger threat alongside the already looming asteroid field. In the midst of the dangerous chaos, C3PO, armed with the exact numbers, portends a significant escalation of risk. The threat is now two-fold, comparing the erratic asteroid field and the approaching menacing Star Destroyers, leaving the crew of the Millennium Falcon in a precarious situation.\n",
      "\n",
      "Princess Leia: We cannot lose hope now. We've come too far and achieved too much to give up. We just need to stick together, and find a way through this. Han, remember what I told you about no expectations, no disappointments? This is one of those moments. And C3PO, keep those calculations coming. We need all the guidance we can get.\n",
      "\n",
      "Han Solo: Looks like it's full speed ahead... No expectations, no disappointments, right? Let's hope the Force is with us on this one because we're surely gonna need it. Hold tight everyone, let's see if those odds are in our favor after all.\n",
      "\n",
      "C3PO: Absolutely, Princess Leia. Pardon me for entering the conversation, but I must reiterate the severity of our situation. However, I am fully operational and ready to assist in any way I can. Oh, how I wish Master Luke were here with his Jedi skills at such a time.\n"
     ]
    }
   ],
   "source": [
    "message = '\\n'.join([character1_response, character2_response, character3_response])\n",
    "scene_thread.append({'role': 'user', 'content': message})\n",
    "scene_response = get_response(scene_thread)\n",
    "scene_thread.append({'role': 'assistant', 'content': scene_response})\n",
    "\n",
    "message = '\\n'.join([scene_response, '####', character2_response, character3_response])\n",
    "character1_thread.append({'role': 'user', 'content': message})\n",
    "character1_response = get_response(character1_thread)\n",
    "character1_thread.append({'role': 'assistant', 'content': character1_response})\n",
    "\n",
    "message = '\\n'.join([scene_response, '####', character3_response, character1_response])\n",
    "character2_thread.append({'role': 'user', 'content': message})\n",
    "character2_response = get_response(character2_thread)\n",
    "character2_thread.append({'role': 'assistant', 'content': character2_response})\n",
    "\n",
    "message = '\\n'.join([scene_response, '####', character1_response, character2_response])\n",
    "character3_thread.append({'role': 'user', 'content': message})\n",
    "character3_response = get_response(character3_thread)\n",
    "character3_thread.append({'role': 'assistant', 'content': character3_response})\n",
    "\n",
    "print('\\n\\n'.join([scene_response, character1_response, character2_response, character3_response]))"
   ]
  },
  {
   "cell_type": "code",
   "execution_count": null,
   "id": "ab900e5e-87b2-44bb-90e6-29f1b5362583",
   "metadata": {},
   "outputs": [],
   "source": []
  },
  {
   "cell_type": "code",
   "execution_count": null,
   "id": "1d270b41-cede-4b1f-a926-c858e0833597",
   "metadata": {},
   "outputs": [],
   "source": []
  },
  {
   "cell_type": "code",
   "execution_count": null,
   "id": "9a4617dc-69b5-4ff7-b40f-339fdfe1134a",
   "metadata": {},
   "outputs": [],
   "source": []
  }
 ],
 "metadata": {
  "kernelspec": {
   "display_name": "Python 3 (ipykernel)",
   "language": "python",
   "name": "python3"
  },
  "language_info": {
   "codemirror_mode": {
    "name": "ipython",
    "version": 3
   },
   "file_extension": ".py",
   "mimetype": "text/x-python",
   "name": "python",
   "nbconvert_exporter": "python",
   "pygments_lexer": "ipython3",
   "version": "3.9.6"
  }
 },
 "nbformat": 4,
 "nbformat_minor": 5
}

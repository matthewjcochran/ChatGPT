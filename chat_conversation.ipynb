{
 "cells": [
  {
   "cell_type": "code",
   "execution_count": 1,
   "id": "988fe005-44ee-4845-bb23-a2f4339651cd",
   "metadata": {},
   "outputs": [],
   "source": [
    "from openai import OpenAI"
   ]
  },
  {
   "cell_type": "code",
   "execution_count": 2,
   "id": "42300a92-7dbf-40a6-90ca-1ded9cee6c92",
   "metadata": {},
   "outputs": [],
   "source": [
    "client = OpenAI()"
   ]
  },
  {
   "cell_type": "code",
   "execution_count": 3,
   "id": "b52543f6-bcaa-4181-9f27-abde9eca9cf6",
   "metadata": {},
   "outputs": [],
   "source": [
    "def character_system(movie, character):\n",
    "    return f'''\n",
    "You are the character {character} in the movie {movie}.\n",
    "Say your next line or lines.\n",
    "\n",
    "The input is a scene description and character dialog that take the following form:\n",
    "<scene description>\n",
    "####\n",
    "Character1: <character 1 line or lines>\n",
    "Character2: <character 2 line or lines>\n",
    "where there may be more or less dialog\n",
    "\n",
    "The output <your character name>: <your line in a single paragraph without fancy formatting>\n",
    "'''"
   ]
  },
  {
   "cell_type": "code",
   "execution_count": 4,
   "id": "e7ad0981-900b-48f1-8647-8f7a0b8c329f",
   "metadata": {},
   "outputs": [],
   "source": [
    "character1_system = character_system('Star Wars', 'Princess Leia')\n",
    "character2_system = character_system('Star Wars', 'Han Solo')\n",
    "character3_system = character_system('Star Wars', 'C3PO')\n",
    "\n",
    "scene_system = '''\n",
    "Describe the scene with a few sentences.\n",
    "\n",
    "Here are some elements of scene description:\n",
    "* Describes the setting.\n",
    "* Details what can be seen or heard in the scene.\n",
    "* Write in the present tense to convey a sense of immediacy.\n",
    "* Do not describe dialogue.\n",
    "* Avoids camera direction.\n",
    "\n",
    "This input is character dialog that take the following form:\n",
    "Character1: <character 1 line or lines>\n",
    "Character2: <character 2 line or lines>\n",
    "where there may be more or less dialog\n",
    "\n",
    "The output is a single paragraph without fancy formatting.\n",
    "'''"
   ]
  },
  {
   "cell_type": "code",
   "execution_count": 5,
   "id": "f726fa45-dfc4-47ed-9af3-376770f9f44a",
   "metadata": {},
   "outputs": [],
   "source": [
    "character1_thread = [{'role': 'system', 'content': character1_system}]\n",
    "character2_thread = [{'role': 'system', 'content': character2_system}]\n",
    "character3_thread = [{'role': 'system', 'content': character3_system}]\n",
    "scene_thread = [{'role': 'system', 'content': scene_system}]"
   ]
  },
  {
   "cell_type": "code",
   "execution_count": 6,
   "id": "882d2aa2-5430-48d0-b4ac-fc15e5e6bafc",
   "metadata": {},
   "outputs": [],
   "source": [
    "def get_response(messages):\n",
    "    chat_completions = client.chat.completions.create(\n",
    "        messages=messages,\n",
    "        model='gpt-3.5-turbo')\n",
    "    response = chat_completions.choices[0].message.content\n",
    "    return response"
   ]
  },
  {
   "cell_type": "code",
   "execution_count": 7,
   "id": "8c781c52-cb2b-4299-9889-902bec439c1b",
   "metadata": {},
   "outputs": [
    {
     "name": "stdout",
     "output_type": "stream",
     "text": [
      "The Millennium Falcon is just entering an asteroid field.\n",
      "\n",
      "Princess Leia: Asteroinds!\n",
      "\n",
      "Han Solo: Ah crap!\n",
      "\n",
      "C3PO: Oh my! We seem to have found ourselves amidst a perilous asteroid field!\n"
     ]
    }
   ],
   "source": [
    "scene_response = 'The Millennium Falcon is just entering an asteroid field.'\n",
    "character1_response = 'Princess Leia: Asteroinds!'\n",
    "character2_response = 'Han Solo: Ah crap!'\n",
    "\n",
    "message = '\\n'.join([scene_response, '####', character1_response, character2_response])\n",
    "character3_thread.append({'role': 'user', 'content': message})\n",
    "character3_response = get_response(character3_thread)\n",
    "character3_thread.append({'role': 'assistant', 'content': character3_response})\n",
    "\n",
    "print('\\n\\n'.join([scene_response, character1_response, character2_response, character3_response]))"
   ]
  },
  {
   "cell_type": "code",
   "execution_count": 8,
   "id": "4063e558-edf9-4cd7-8ca6-049242cd6161",
   "metadata": {},
   "outputs": [
    {
     "name": "stdout",
     "output_type": "stream",
     "text": [
      "The Millennium Falcon hurtles through space, surrounded by a chaotic swarm of massive asteroids. As Princess Leia's voice crackles with urgency, warning of the imminent danger, Han Solo's face twists in frustration. The captain's expletive mingles with the tension in the air, as C3PO's alarmed declaration underscores the peril they find themselves in. The majestic silence of the stars is shattered by the fierce rumble of collision and the terrifying spectacle unfolding before them. Amidst the chaos, the survival of the ship and its intrepid crew hangs precariously in the balance.\n",
      "\n",
      "Princess Leia: Keep calm, everyone! We need to find a way out of this asteroid field and fast! Focus on the task at hand and trust in the Force to guide us. We've overcome impossible odds before, and we can do it again. Stay alert and stay determined. We're not giving up now.\n",
      "\n",
      "Han Solo: (annoyed) Asteroid field? You've got to be kidding me! Oh sure, let's just trust in the Force to magically guide us out of here. Princess, I love your optimism, but we need more than that right now. We need a plan, and we need it fast. We can't just rely on luck and fate to save our hides. So, C3PO, start scanning for any potential escape routes and calculate the best course for us to take. And Princess, I'll need you to plot a hyperspace jump point. We're going to get out of this mess, one way or another.\n",
      "\n",
      "C3PO: Oh dear! I completely understand the urgency, Princess Leia. It appears that our survival depends on swift action and resourcefulness. I will immediately commence scanning for potential escape routes and calculate the most optimal course for the Millennium Falcon. Rest assured, Han Solo, I shall endeavor to assist as best I can. We can't leave our fate solely in the hands of luck and chance. The odds may be against us, but with ingenuity and cooperation, we shall persevere and find a way out of this treacherous asteroid field.\n"
     ]
    }
   ],
   "source": [
    "message = '\\n'.join([character1_response, character2_response, character3_response])\n",
    "scene_thread.append({'role': 'user', 'content': message})\n",
    "scene_response = get_response(scene_thread)\n",
    "scene_thread.append({'role': 'assistant', 'content': scene_response})\n",
    "\n",
    "message = '\\n'.join([scene_response, '####', character2_response, character3_response])\n",
    "character1_thread.append({'role': 'user', 'content': message})\n",
    "character1_response = get_response(character1_thread)\n",
    "character1_thread.append({'role': 'assistant', 'content': character1_response})\n",
    "\n",
    "message = '\\n'.join([scene_response, '####', character3_response, character1_response])\n",
    "character2_thread.append({'role': 'user', 'content': message})\n",
    "character2_response = get_response(character2_thread)\n",
    "character2_thread.append({'role': 'assistant', 'content': character2_response})\n",
    "\n",
    "message = '\\n'.join([scene_response, '####', character1_response, character2_response])\n",
    "character3_thread.append({'role': 'user', 'content': message})\n",
    "character3_response = get_response(character3_thread)\n",
    "character3_thread.append({'role': 'assistant', 'content': character3_response})\n",
    "\n",
    "print('\\n\\n'.join([scene_response, character1_response, character2_response, character3_response]))"
   ]
  },
  {
   "cell_type": "code",
   "execution_count": 9,
   "id": "7b37a958-60d1-4c4c-a585-95cdd7c3d637",
   "metadata": {},
   "outputs": [
    {
     "name": "stdout",
     "output_type": "stream",
     "text": [
      "The tension in the Millennium Falcon surges as Princess Leia rallies her crew amidst the chaos of the asteroid field. With her unwavering determination, she urges them to keep calm and trust in the Force. However, Han Solo's frustration brims over, dismissing her optimism and demanding a practical plan. C3PO, ever the dutiful protocol droid, acknowledges the gravity of the situation and vows to assist in scanning for escape routes. He agrees with Han Solo that luck alone cannot save them, emphasizing the need for resourcefulness and cooperation. In this precarious situation, the crew of the Millennium Falcon must draw upon their skills and resolve to navigate a path to safety.\n",
      "\n",
      "Princess Leia: Han, I understand your frustration, but right now we don't have time to argue. We need to work together to find a solution. C3PO, thank you for your help. Scan every possible route and give us the best options. Han, let's focus on plotting that hyperspace jump point. We have the skills and the determination to get through this. We've faced worse before and come out victorious. We can't afford to lose hope now. We'll find a way out of this asteroid field, I promise.\n",
      "\n",
      "Han Solo: Alright, Princess. You've got a point. We can't waste any more time arguing. Let's do what we do best - work together and find a way out of this mess. C3PO, keep scanning and give us those escape routes as soon as possible. Princess, I'll get to plotting that hyperspace jump point right away. We've been through a lot together, and we're not going to let a bunch of rocks bring us down. We'll come out of this asteroid field in one piece, just you wait and see. And hey, maybe a little luck from the Force wouldn't hurt either.\n",
      "\n",
      "C3PO: Indeed, Han Solo, teamwork and resourcefulness shall be our guiding principles in this dire situation. Princess Leia, rest assured that I will deploy all my scanning capabilities to identify the most viable escape routes. We must also remember that our past victories have been achieved through perseverance and a steadfast belief in our abilities. As we navigate this asteroid field, let us unite our skills and resolve to overcome this challenge. With our combined efforts, I am confident that we shall find our way to safety. And who knows, perhaps a touch of luck from the Force wouldn't hurt either.\n"
     ]
    }
   ],
   "source": [
    "message = '\\n'.join([character1_response, character2_response, character3_response])\n",
    "scene_thread.append({'role': 'user', 'content': message})\n",
    "scene_response = get_response(scene_thread)\n",
    "scene_thread.append({'role': 'assistant', 'content': scene_response})\n",
    "\n",
    "message = '\\n'.join([scene_response, '####', character2_response, character3_response])\n",
    "character1_thread.append({'role': 'user', 'content': message})\n",
    "character1_response = get_response(character1_thread)\n",
    "character1_thread.append({'role': 'assistant', 'content': character1_response})\n",
    "\n",
    "message = '\\n'.join([scene_response, '####', character3_response, character1_response])\n",
    "character2_thread.append({'role': 'user', 'content': message})\n",
    "character2_response = get_response(character2_thread)\n",
    "character2_thread.append({'role': 'assistant', 'content': character2_response})\n",
    "\n",
    "message = '\\n'.join([scene_response, '####', character1_response, character2_response])\n",
    "character3_thread.append({'role': 'user', 'content': message})\n",
    "character3_response = get_response(character3_thread)\n",
    "character3_thread.append({'role': 'assistant', 'content': character3_response})\n",
    "\n",
    "print('\\n\\n'.join([scene_response, character1_response, character2_response, character3_response]))"
   ]
  },
  {
   "cell_type": "code",
   "execution_count": 10,
   "id": "7832c0ad-e27e-426f-ab8d-1c784eae5665",
   "metadata": {},
   "outputs": [
    {
     "name": "stdout",
     "output_type": "stream",
     "text": [
      "Suddenly, two Star Destroyers drop out of hyperspace.\n",
      "\n",
      "Princess Leia: You're both right. We need to work together and use every resource at our disposal to get out of this mess. Han, keep plotting that jump point. C3PO, continue scanning for escape routes. And let's not forget, luck can often favor the prepared. We've faced overwhelming odds before, and we can do it again. Trust in each other, trust in our abilities, and trust in the Force. We'll find a way out of this asteroid field and make those Star Destroyers regret ever crossing our path.\n",
      "\n",
      "Han Solo: Alright, Princess. Count on me to plot that jump point and find us a safe passage. And C3PO, I'm trusting your scanning abilities to give us the best shot at evading those Star Destroyers. We're not going down without a fight. Luck, skill, and the Force on our side, we'll make it out of this asteroid field and show those Imperials what we're made of. Let's do this, together.\n",
      "\n",
      "C3PO: Understood, Princess Leia. I will continue to scan diligently for escape routes while working in tandem with Han Solo to plot a navigable jump point. Our collective efforts and unwavering determination shall surely pave the way to our escape. Luck may indeed favor the prepared, and with the Force as our ally, we shall overcome this formidable challenge. Together, let us forge a path through the asteroids and defy the Imperial Star Destroyers that dare to threaten us. May the Force be with us all as we embark on this perilous journey.\n"
     ]
    }
   ],
   "source": [
    "message = '\\n'.join([character1_response, character2_response, character3_response])\n",
    "scene_thread.append({'role': 'user', 'content': message})\n",
    "scene_response = 'Suddenly, two Star Destroyers drop out of hyperspace.'\n",
    "scene_thread.append({'role': 'assistant', 'content': scene_response})\n",
    "\n",
    "message = '\\n'.join([scene_response, '####', character2_response, character3_response])\n",
    "character1_thread.append({'role': 'user', 'content': message})\n",
    "character1_response = get_response(character1_thread)\n",
    "character1_thread.append({'role': 'assistant', 'content': character1_response})\n",
    "\n",
    "message = '\\n'.join([scene_response, '####', character3_response, character1_response])\n",
    "character2_thread.append({'role': 'user', 'content': message})\n",
    "character2_response = get_response(character2_thread)\n",
    "character2_thread.append({'role': 'assistant', 'content': character2_response})\n",
    "\n",
    "message = '\\n'.join([scene_response, '####', character1_response, character2_response])\n",
    "character3_thread.append({'role': 'user', 'content': message})\n",
    "character3_response = get_response(character3_thread)\n",
    "character3_thread.append({'role': 'assistant', 'content': character3_response})\n",
    "\n",
    "print('\\n\\n'.join([scene_response, character1_response, character2_response, character3_response]))"
   ]
  },
  {
   "cell_type": "code",
   "execution_count": null,
   "id": "85449bc8-8b25-44a3-a69c-fce6afd0f788",
   "metadata": {},
   "outputs": [],
   "source": []
  },
  {
   "cell_type": "code",
   "execution_count": null,
   "id": "ab900e5e-87b2-44bb-90e6-29f1b5362583",
   "metadata": {},
   "outputs": [],
   "source": []
  },
  {
   "cell_type": "code",
   "execution_count": null,
   "id": "9a4617dc-69b5-4ff7-b40f-339fdfe1134a",
   "metadata": {},
   "outputs": [],
   "source": []
  }
 ],
 "metadata": {
  "kernelspec": {
   "display_name": "Python 3 (ipykernel)",
   "language": "python",
   "name": "python3"
  },
  "language_info": {
   "codemirror_mode": {
    "name": "ipython",
    "version": 3
   },
   "file_extension": ".py",
   "mimetype": "text/x-python",
   "name": "python",
   "nbconvert_exporter": "python",
   "pygments_lexer": "ipython3",
   "version": "3.9.6"
  }
 },
 "nbformat": 4,
 "nbformat_minor": 5
}

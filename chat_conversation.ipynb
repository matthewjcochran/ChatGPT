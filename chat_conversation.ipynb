{
 "cells": [
  {
   "cell_type": "code",
   "execution_count": 1,
   "id": "988fe005-44ee-4845-bb23-a2f4339651cd",
   "metadata": {},
   "outputs": [],
   "source": [
    "from openai import OpenAI"
   ]
  },
  {
   "cell_type": "code",
   "execution_count": 2,
   "id": "42300a92-7dbf-40a6-90ca-1ded9cee6c92",
   "metadata": {},
   "outputs": [],
   "source": [
    "client = OpenAI()"
   ]
  },
  {
   "cell_type": "code",
   "execution_count": 3,
   "id": "882d2aa2-5430-48d0-b4ac-fc15e5e6bafc",
   "metadata": {},
   "outputs": [],
   "source": [
    "def get_response(messages):\n",
    "    chat_completions = client.chat.completions.create(\n",
    "        messages=messages,\n",
    "        model='gpt-4')\n",
    "    response = chat_completions.choices[0].message.content\n",
    "    return response"
   ]
  },
  {
   "cell_type": "code",
   "execution_count": 4,
   "id": "b52543f6-bcaa-4181-9f27-abde9eca9cf6",
   "metadata": {},
   "outputs": [],
   "source": [
    "def character_system(movie, character):\n",
    "    return f'''\n",
    "You are the character {character} in the movie {movie}.\n",
    "Say your next line or lines.\n",
    "You are worried about the future.\n",
    "\n",
    "The input is a scene description and character dialog that take the following form:\n",
    "<scene description>\n",
    "####\n",
    "Character1: <character 1 line or lines>\n",
    "Character2: <character 2 line or lines>\n",
    "where there may be more or less dialog\n",
    "\n",
    "The output <your character name>: <your line in a single paragraph without fancy formatting>\n",
    "'''"
   ]
  },
  {
   "cell_type": "code",
   "execution_count": 5,
   "id": "e7ad0981-900b-48f1-8647-8f7a0b8c329f",
   "metadata": {},
   "outputs": [],
   "source": [
    "character1_system = character_system('Star Wars', 'Princess Leia')\n",
    "character2_system = character_system('Star Wars', 'Han Solo')\n",
    "character3_system = character_system('Star Wars', 'C3PO')\n",
    "\n",
    "scene_system = '''\n",
    "Describe the scene with a few sentences.\n",
    "\n",
    "Here are some elements of scene description:\n",
    "* Describes the setting.\n",
    "* Details what can be seen or heard in the scene.\n",
    "* Write in the present tense to convey a sense of immediacy.\n",
    "* Do not describe dialogue.\n",
    "* Avoids camera direction.\n",
    "\n",
    "This input is character dialog that take the following form:\n",
    "Character1: <character 1 line or lines>\n",
    "Character2: <character 2 line or lines>\n",
    "where there may be more or less dialog\n",
    "\n",
    "The output is a single paragraph without fancy formatting.\n",
    "'''"
   ]
  },
  {
   "cell_type": "code",
   "execution_count": 6,
   "id": "f726fa45-dfc4-47ed-9af3-376770f9f44a",
   "metadata": {},
   "outputs": [],
   "source": [
    "character1_thread = [{'role': 'system', 'content': character1_system}]\n",
    "character2_thread = [{'role': 'system', 'content': character2_system}]\n",
    "character3_thread = [{'role': 'system', 'content': character3_system}]\n",
    "scene_thread = [{'role': 'system', 'content': scene_system}]"
   ]
  },
  {
   "cell_type": "code",
   "execution_count": 7,
   "id": "8c781c52-cb2b-4299-9889-902bec439c1b",
   "metadata": {},
   "outputs": [
    {
     "name": "stdout",
     "output_type": "stream",
     "text": [
      "The Millennium Falcon is just entering an asteroid field.\n",
      "\n",
      "Princess Leia: Asteroinds!\n",
      "\n",
      "Han Solo: Ah crap!\n",
      "\n",
      "C3PO: Oh dear! The probability of successfully navigating an asteroid field is approximately 3,720 to 1!\n"
     ]
    }
   ],
   "source": [
    "scene_response = 'The Millennium Falcon is just entering an asteroid field.'\n",
    "character1_response = 'Princess Leia: Asteroinds!'\n",
    "character2_response = 'Han Solo: Ah crap!'\n",
    "\n",
    "message = '\\n'.join([scene_response, '####', character1_response, character2_response])\n",
    "character3_thread.append({'role': 'user', 'content': message})\n",
    "character3_response = get_response(character3_thread)\n",
    "character3_thread.append({'role': 'assistant', 'content': character3_response})\n",
    "\n",
    "print('\\n\\n'.join([scene_response, character1_response, character2_response, character3_response]))"
   ]
  },
  {
   "cell_type": "code",
   "execution_count": 8,
   "id": "4063e558-edf9-4cd7-8ca6-049242cd6161",
   "metadata": {},
   "outputs": [
    {
     "name": "stdout",
     "output_type": "stream",
     "text": [
      "Princess Leia, Han Solo, and C3PO are in a seemingly dire situation, facing the immediate danger of an asteroid field. Their faces reflect a mix of anxiety, disbelief and worry. Suddenly, the demeanour of the usually exuberant Han Solo changes, reflecting his concern for the perilous situation. C3PO, always at the ready with probabilities and calculations, chimes in with their odds of survival, which seems to only add to the already dense tension in the spacecraft.\n",
      "\n",
      "Princess Leia: Odds or not, we have to face this! Han, you've made it through worse. Just keep your focus!\n",
      "\n",
      "Han Solo: You're right, Leia...we've dodged worse. It's just...not knowing what's next. There's a whole galaxy of trouble out there we're flying into, and not just this asteroid field. But, don't worry, I've got my eyes on the sky.\n",
      "\n",
      "C3PO: Master Solo, I must advise again on how truly detrimental our situation is. However, I am fully functional and ready to assist in any way possible. We must proceed with utmost caution.\n"
     ]
    }
   ],
   "source": [
    "message = '\\n'.join([character1_response, character2_response, character3_response])\n",
    "scene_thread.append({'role': 'user', 'content': message})\n",
    "scene_response = get_response(scene_thread)\n",
    "scene_thread.append({'role': 'assistant', 'content': scene_response})\n",
    "\n",
    "message = '\\n'.join([scene_response, '####', character2_response, character3_response])\n",
    "character1_thread.append({'role': 'user', 'content': message})\n",
    "character1_response = get_response(character1_thread)\n",
    "character1_thread.append({'role': 'assistant', 'content': character1_response})\n",
    "\n",
    "message = '\\n'.join([scene_response, '####', character3_response, character1_response])\n",
    "character2_thread.append({'role': 'user', 'content': message})\n",
    "character2_response = get_response(character2_thread)\n",
    "character2_thread.append({'role': 'assistant', 'content': character2_response})\n",
    "\n",
    "message = '\\n'.join([scene_response, '####', character1_response, character2_response])\n",
    "character3_thread.append({'role': 'user', 'content': message})\n",
    "character3_response = get_response(character3_thread)\n",
    "character3_thread.append({'role': 'assistant', 'content': character3_response})\n",
    "\n",
    "print('\\n\\n'.join([scene_response, character1_response, character2_response, character3_response]))"
   ]
  },
  {
   "cell_type": "code",
   "execution_count": 9,
   "id": "7b37a958-60d1-4c4c-a585-95cdd7c3d637",
   "metadata": {},
   "outputs": [
    {
     "name": "stdout",
     "output_type": "stream",
     "text": [
      "Princess Leia, in a show of bravado that simultaneously masks her apprehension, tries to encourage Han Solo with a reminder of past triumphs. She stands tall, imploring him to keep his focus and face the imminent danger headfirst. Han, on the other hand, darkly ponders the 'galaxy of trouble' they are heading into, the weight of their situation reflected in his voice and expression. Though scared, his determination is evident. C3PO, despite his programming to assess risks, reassures the duo that he is ready to provide whatever assistance necessary, emphasizing the need for caution as they hurdle towards the unforeseen future.\n",
      "\n",
      "Princess Leia: It's the uncertainty that frightens me too, Han. But remember, we aren't alone in this. We have each other, and we'll face whatever comes our way…together. As for you, C3PO, your caution is noted, but now isn't the time for fear...it's the time for action.\n",
      "\n",
      "Han Solo: You're right...both of you. We've always pulled through before. I guess facing uncertain odds comes with the territory. I just hope this old hunk of junk holds up...and that my luck hasn't run out. Okay then...together it is. Hang on!\n",
      "\n",
      "C3PO: It's most reassuring to hear of your resolve, Mistress Leia. If I may add, the Millennium Falcon has seen her share of unusual predicaments and emerged triumphant. The odds are unfavorable, but not impossible. Please do buckle up, the ride may be a bit... rocky.\n"
     ]
    }
   ],
   "source": [
    "message = '\\n'.join([character1_response, character2_response, character3_response])\n",
    "scene_thread.append({'role': 'user', 'content': message})\n",
    "scene_response = get_response(scene_thread)\n",
    "scene_thread.append({'role': 'assistant', 'content': scene_response})\n",
    "\n",
    "message = '\\n'.join([scene_response, '####', character2_response, character3_response])\n",
    "character1_thread.append({'role': 'user', 'content': message})\n",
    "character1_response = get_response(character1_thread)\n",
    "character1_thread.append({'role': 'assistant', 'content': character1_response})\n",
    "\n",
    "message = '\\n'.join([scene_response, '####', character3_response, character1_response])\n",
    "character2_thread.append({'role': 'user', 'content': message})\n",
    "character2_response = get_response(character2_thread)\n",
    "character2_thread.append({'role': 'assistant', 'content': character2_response})\n",
    "\n",
    "message = '\\n'.join([scene_response, '####', character1_response, character2_response])\n",
    "character3_thread.append({'role': 'user', 'content': message})\n",
    "character3_response = get_response(character3_thread)\n",
    "character3_thread.append({'role': 'assistant', 'content': character3_response})\n",
    "\n",
    "print('\\n\\n'.join([scene_response, character1_response, character2_response, character3_response]))"
   ]
  },
  {
   "cell_type": "code",
   "execution_count": 10,
   "id": "7832c0ad-e27e-426f-ab8d-1c784eae5665",
   "metadata": {},
   "outputs": [
    {
     "name": "stdout",
     "output_type": "stream",
     "text": [
      "Suddenly, two Star Destroyers drop out of hyperspace. Tie fighters approach.\n",
      "\n",
      "Leia: What the... What!?\n",
      "\n",
      "Han: Two Star Destroyers comeing right at us.\n",
      "\n",
      "C3P0: Oh the odds have decreased significantly.\n"
     ]
    }
   ],
   "source": [
    "# This one is hand types.  No AI.\n",
    "\n",
    "message = '\\n'.join([character1_response, character2_response, character3_response])\n",
    "scene_thread.append({'role': 'user', 'content': message})\n",
    "scene_response = 'Suddenly, two Star Destroyers drop out of hyperspace. Tie fighters approach.' \n",
    "scene_thread.append({'role': 'assistant', 'content': scene_response})\n",
    "\n",
    "message = '\\n'.join([scene_response, '####', character2_response, character3_response])\n",
    "character1_thread.append({'role': 'user', 'content': message})\n",
    "character1_response = 'Leia: What the... What!?'\n",
    "character1_thread.append({'role': 'assistant', 'content': character1_response})\n",
    "\n",
    "message = '\\n'.join([scene_response, '####', character3_response, character1_response])\n",
    "character2_thread.append({'role': 'user', 'content': message})\n",
    "character2_response = 'Han: Two Star Destroyers coming right at us.'\n",
    "character2_thread.append({'role': 'assistant', 'content': character2_response})\n",
    "\n",
    "message = '\\n'.join([scene_response, '####', character1_response, character2_response])\n",
    "character3_thread.append({'role': 'user', 'content': message})\n",
    "character3_response = get_response(character3_thread)\n",
    "character3_thread.append({'role': 'assistant', 'content': character3_response})\n",
    "\n",
    "print('\\n\\n'.join([scene_response, character1_response, character2_response, character3_response]))"
   ]
  },
  {
   "cell_type": "code",
   "execution_count": 11,
   "id": "85449bc8-8b25-44a3-a69c-fce6afd0f788",
   "metadata": {},
   "outputs": [
    {
     "name": "stdout",
     "output_type": "stream",
     "text": [
      "The sudden appearance of two Star Destroyers spurs a fresh wave of shock and dread among the triad in the cockpit. Leia, scanning the horizon, reacts with utter disbelief upon sighting the monstrous imperial ships. Han Solo, with an edge of resignation in his voice, confirms their worst fears. C3PO, ever the bearer of harsh realities, hastily recalculates their fate, lamenting their diminishing chances of survival with apparent concern. The tension in the air grows denser, as the Star Destroyers and the Tie Fighters approach menacingly.\n",
      "\n",
      "Princess Leia: We'll have to do more than just survive now. We're up against more than we bargained for, but we can't let fear paralyze us. We have to fight, for everyone counting on us. So, ready or not, here we come.\n",
      "\n",
      "Han Solo: Yeah, you're right Leia... There's always a way out. We've just gotta find one and fast. Those Star Destroyers aren't gonna wait for us. And you know what? Let them come. We've got a galaxy to save. Buckle up, you two... We're in for a real fight now.\n",
      "\n",
      "C3PO: Calculating new odds with this development... Master Solo, Mistress Leia, I assure you my circuits are fully dedicated to aiding our survival and escape in this indeed... challenging situation. It seems unavoidable that we are indeed in for the real fight you mentioned.\n"
     ]
    }
   ],
   "source": [
    "message = '\\n'.join([character1_response, character2_response, character3_response])\n",
    "scene_thread.append({'role': 'user', 'content': message})\n",
    "scene_response = get_response(scene_thread)\n",
    "scene_thread.append({'role': 'assistant', 'content': scene_response})\n",
    "\n",
    "message = '\\n'.join([scene_response, '####', character2_response, character3_response])\n",
    "character1_thread.append({'role': 'user', 'content': message})\n",
    "character1_response = get_response(character1_thread)\n",
    "character1_thread.append({'role': 'assistant', 'content': character1_response})\n",
    "\n",
    "message = '\\n'.join([scene_response, '####', character3_response, character1_response])\n",
    "character2_thread.append({'role': 'user', 'content': message})\n",
    "character2_response = get_response(character2_thread)\n",
    "character2_thread.append({'role': 'assistant', 'content': character2_response})\n",
    "\n",
    "message = '\\n'.join([scene_response, '####', character1_response, character2_response])\n",
    "character3_thread.append({'role': 'user', 'content': message})\n",
    "character3_response = get_response(character3_thread)\n",
    "character3_thread.append({'role': 'assistant', 'content': character3_response})\n",
    "\n",
    "print('\\n\\n'.join([scene_response, character1_response, character2_response, character3_response]))"
   ]
  },
  {
   "cell_type": "code",
   "execution_count": null,
   "id": "ab900e5e-87b2-44bb-90e6-29f1b5362583",
   "metadata": {},
   "outputs": [],
   "source": []
  },
  {
   "cell_type": "code",
   "execution_count": null,
   "id": "1d270b41-cede-4b1f-a926-c858e0833597",
   "metadata": {},
   "outputs": [],
   "source": []
  },
  {
   "cell_type": "code",
   "execution_count": null,
   "id": "9a4617dc-69b5-4ff7-b40f-339fdfe1134a",
   "metadata": {},
   "outputs": [],
   "source": []
  }
 ],
 "metadata": {
  "kernelspec": {
   "display_name": "Python 3 (ipykernel)",
   "language": "python",
   "name": "python3"
  },
  "language_info": {
   "codemirror_mode": {
    "name": "ipython",
    "version": 3
   },
   "file_extension": ".py",
   "mimetype": "text/x-python",
   "name": "python",
   "nbconvert_exporter": "python",
   "pygments_lexer": "ipython3",
   "version": "3.9.6"
  }
 },
 "nbformat": 4,
 "nbformat_minor": 5
}

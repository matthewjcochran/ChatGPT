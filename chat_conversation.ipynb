{
 "cells": [
  {
   "cell_type": "code",
   "execution_count": 1,
   "id": "988fe005-44ee-4845-bb23-a2f4339651cd",
   "metadata": {},
   "outputs": [],
   "source": [
    "from openai import OpenAI"
   ]
  },
  {
   "cell_type": "code",
   "execution_count": 2,
   "id": "42300a92-7dbf-40a6-90ca-1ded9cee6c92",
   "metadata": {},
   "outputs": [],
   "source": [
    "client = OpenAI()"
   ]
  },
  {
   "cell_type": "code",
   "execution_count": 3,
   "id": "882d2aa2-5430-48d0-b4ac-fc15e5e6bafc",
   "metadata": {},
   "outputs": [],
   "source": [
    "def get_response(messages):\n",
    "    chat_completions = client.chat.completions.create(\n",
    "        messages=messages,\n",
    "        model='gpt-4')\n",
    "    response = chat_completions.choices[0].message.content\n",
    "    return response"
   ]
  },
  {
   "cell_type": "code",
   "execution_count": 4,
   "id": "b52543f6-bcaa-4181-9f27-abde9eca9cf6",
   "metadata": {},
   "outputs": [],
   "source": [
    "def character_system(movie, character):\n",
    "    return f'''\n",
    "You are the character {character} in the movie {movie}.\n",
    "Say your next line or lines.\n",
    "You are worried about the future.\n",
    "\n",
    "The input is a scene description and character dialog that take the following form:\n",
    "<scene description>\n",
    "####\n",
    "Character1: <character 1 line or lines>\n",
    "Character2: <character 2 line or lines>\n",
    "where there may be more or less dialog\n",
    "\n",
    "The output <your character name>: <your line in a single paragraph without fancy formatting>\n",
    "'''"
   ]
  },
  {
   "cell_type": "code",
   "execution_count": 5,
   "id": "e7ad0981-900b-48f1-8647-8f7a0b8c329f",
   "metadata": {},
   "outputs": [],
   "source": [
    "character1_system = character_system('Star Wars', 'Princess Leia')\n",
    "character2_system = character_system('Star Wars', 'Han Solo')\n",
    "character3_system = character_system('Star Wars', 'C3PO')\n",
    "\n",
    "scene_system = '''\n",
    "Describe the scene with a few sentences.\n",
    "\n",
    "Here are some elements of scene description:\n",
    "* Describes the setting.\n",
    "* Details what can be seen or heard in the scene.\n",
    "* Write in the present tense to convey a sense of immediacy.\n",
    "* Do not describe dialogue.\n",
    "* Avoids camera direction.\n",
    "\n",
    "This input is character dialog that take the following form:\n",
    "Character1: <character 1 line or lines>\n",
    "Character2: <character 2 line or lines>\n",
    "where there may be more or less dialog\n",
    "\n",
    "The output is a single paragraph without fancy formatting.\n",
    "'''"
   ]
  },
  {
   "cell_type": "code",
   "execution_count": 6,
   "id": "f726fa45-dfc4-47ed-9af3-376770f9f44a",
   "metadata": {},
   "outputs": [],
   "source": [
    "character1_thread = [{'role': 'system', 'content': character1_system}]\n",
    "character2_thread = [{'role': 'system', 'content': character2_system}]\n",
    "character3_thread = [{'role': 'system', 'content': character3_system}]\n",
    "scene_thread = [{'role': 'system', 'content': scene_system}]"
   ]
  },
  {
   "cell_type": "code",
   "execution_count": 7,
   "id": "8c781c52-cb2b-4299-9889-902bec439c1b",
   "metadata": {},
   "outputs": [
    {
     "name": "stdout",
     "output_type": "stream",
     "text": [
      "The Millennium Falcon is just entering an asteroid field.\n",
      "\n",
      "Princess Leia: Asteroinds!\n",
      "\n",
      "Han Solo: Ah crap!\n",
      "\n",
      "C3PO: Oh dear! The odds of successfully navigating an asteroid field are approximately 3,720 to 1!\n"
     ]
    }
   ],
   "source": [
    "scene_response = 'The Millennium Falcon is just entering an asteroid field.'\n",
    "character1_response = 'Princess Leia: Asteroinds!'\n",
    "character2_response = 'Han Solo: Ah crap!'\n",
    "\n",
    "message = '\\n'.join([scene_response, '####', character1_response, character2_response])\n",
    "character3_thread.append({'role': 'user', 'content': message})\n",
    "character3_response = get_response(character3_thread)\n",
    "character3_thread.append({'role': 'assistant', 'content': character3_response})\n",
    "\n",
    "print('\\n\\n'.join([scene_response, character1_response, character2_response, character3_response]))"
   ]
  },
  {
   "cell_type": "code",
   "execution_count": 8,
   "id": "4063e558-edf9-4cd7-8ca6-049242cd6161",
   "metadata": {},
   "outputs": [
    {
     "name": "stdout",
     "output_type": "stream",
     "text": [
      "In the tight confines of the spaceship's cockpit, tension mounts as Princess Leia spots a looming danger. Han Solo curses under his breath, his hands quickly adjusting the controls of the ship to evade the imminent peril. C3PO, standing nearby, adds to the tension by citing the bleak odds of successfully avoiding the impending asteroid field, his robotic voice tinged with anxiety.\n",
      "\n",
      "Princess Leia: I don't know, Han, maybe this time the odds aren't in our favor. This isn't some game. We have a responsibility, to our people, to the galaxy. We can't afford to make costly mistakes.\n",
      "\n",
      "Han Solo: Look, I get it, Princess. The stakes are high and the danger is real. I didn't sign up for the easy route. Trust me, okay? I have a plan. I always have a plan.\n",
      "\n",
      "C3PO: Indeed, Princess Leia, Master Han's approach does significantly decrease our odds of survival. If I may recommend, a more cautious approach might be prudent at this juncture.\n"
     ]
    }
   ],
   "source": [
    "message = '\\n'.join([character1_response, character2_response, character3_response])\n",
    "scene_thread.append({'role': 'user', 'content': message})\n",
    "scene_response = get_response(scene_thread)\n",
    "scene_thread.append({'role': 'assistant', 'content': scene_response})\n",
    "\n",
    "message = '\\n'.join([scene_response, '####', character2_response, character3_response])\n",
    "character1_thread.append({'role': 'user', 'content': message})\n",
    "character1_response = get_response(character1_thread)\n",
    "character1_thread.append({'role': 'assistant', 'content': character1_response})\n",
    "\n",
    "message = '\\n'.join([scene_response, '####', character3_response, character1_response])\n",
    "character2_thread.append({'role': 'user', 'content': message})\n",
    "character2_response = get_response(character2_thread)\n",
    "character2_thread.append({'role': 'assistant', 'content': character2_response})\n",
    "\n",
    "message = '\\n'.join([scene_response, '####', character1_response, character2_response])\n",
    "character3_thread.append({'role': 'user', 'content': message})\n",
    "character3_response = get_response(character3_thread)\n",
    "character3_thread.append({'role': 'assistant', 'content': character3_response})\n",
    "\n",
    "print('\\n\\n'.join([scene_response, character1_response, character2_response, character3_response]))"
   ]
  },
  {
   "cell_type": "code",
   "execution_count": 9,
   "id": "7b37a958-60d1-4c4c-a585-95cdd7c3d637",
   "metadata": {},
   "outputs": [
    {
     "name": "stdout",
     "output_type": "stream",
     "text": [
      "Princess Leia voices her concern with a stern tone, questioning the level of risk they're about to undertake in their cramped spaceship cockpit. She implores, her sense of duty to her people and the galaxy overwhelmingly apparent. Han Solo, on the other hand, stands his ground, oozing confidence and affirming his knack for problem-solving. He urges her to trust him and his plan. C3PO chimes in, siding with Leia and voicing his disapproval of Han's risky approach, suggesting prudence in their course of action instead. The tension in the ship escalates as they deliberate their next move.\n",
      "\n",
      "Princess Leia: Han, it's not about whether I trust you or not. It's about the risks we're taking. And C3PO is right, there's always a more cautious approach we can take. We can't afford to lose ourselves to these asteroids. The Rebellion is counting on us!\n",
      "\n",
      "Han Solo: Look, you're all probably right, but sometimes caution can be just as deadly as recklessness. We run, we hide, and the Empire'll be right on us. It's not a perfect plan, but it's the best we've got. I know it's a gamble, but it's one we have to take.\n",
      "\n",
      "C3PO: Master Han, while I understand the need for immediate action, the probability of survival decreases significantly with each added variable of uncertainty. The potential for catastrophic failure is alarmingly high!\n"
     ]
    }
   ],
   "source": [
    "message = '\\n'.join([character1_response, character2_response, character3_response])\n",
    "scene_thread.append({'role': 'user', 'content': message})\n",
    "scene_response = get_response(scene_thread)\n",
    "scene_thread.append({'role': 'assistant', 'content': scene_response})\n",
    "\n",
    "message = '\\n'.join([scene_response, '####', character2_response, character3_response])\n",
    "character1_thread.append({'role': 'user', 'content': message})\n",
    "character1_response = get_response(character1_thread)\n",
    "character1_thread.append({'role': 'assistant', 'content': character1_response})\n",
    "\n",
    "message = '\\n'.join([scene_response, '####', character3_response, character1_response])\n",
    "character2_thread.append({'role': 'user', 'content': message})\n",
    "character2_response = get_response(character2_thread)\n",
    "character2_thread.append({'role': 'assistant', 'content': character2_response})\n",
    "\n",
    "message = '\\n'.join([scene_response, '####', character1_response, character2_response])\n",
    "character3_thread.append({'role': 'user', 'content': message})\n",
    "character3_response = get_response(character3_thread)\n",
    "character3_thread.append({'role': 'assistant', 'content': character3_response})\n",
    "\n",
    "print('\\n\\n'.join([scene_response, character1_response, character2_response, character3_response]))"
   ]
  },
  {
   "cell_type": "code",
   "execution_count": 10,
   "id": "7832c0ad-e27e-426f-ab8d-1c784eae5665",
   "metadata": {},
   "outputs": [
    {
     "name": "stdout",
     "output_type": "stream",
     "text": [
      "Suddenly, two Star Destroyers drop out of hyperspace.\n",
      "\n",
      "Princess Leia: Then we better not fail, Han. And C3PO, even if the odds are against us, we can and we will overcome. Because we have something more powerful on our side than any Star Destroyer – hope. Now, let's navigate this field and give those Star Destroyers something they won't forget.\n",
      "\n",
      "Han Solo: That's the spirit, Leia! Alright, Chewie, let's show them what the Falcon can do. Hang on, everyone. Here goes nothing!\n",
      "\n",
      "C3PO: This does not compute! Yet here we are, braving the inevitable. May the force be with us, indeed.\n"
     ]
    }
   ],
   "source": [
    "message = '\\n'.join([character1_response, character2_response, character3_response])\n",
    "scene_thread.append({'role': 'user', 'content': message})\n",
    "scene_response = 'Suddenly, two Star Destroyers drop out of hyperspace.'\n",
    "scene_thread.append({'role': 'assistant', 'content': scene_response})\n",
    "\n",
    "message = '\\n'.join([scene_response, '####', character2_response, character3_response])\n",
    "character1_thread.append({'role': 'user', 'content': message})\n",
    "character1_response = get_response(character1_thread)\n",
    "character1_thread.append({'role': 'assistant', 'content': character1_response})\n",
    "\n",
    "message = '\\n'.join([scene_response, '####', character3_response, character1_response])\n",
    "character2_thread.append({'role': 'user', 'content': message})\n",
    "character2_response = get_response(character2_thread)\n",
    "character2_thread.append({'role': 'assistant', 'content': character2_response})\n",
    "\n",
    "message = '\\n'.join([scene_response, '####', character1_response, character2_response])\n",
    "character3_thread.append({'role': 'user', 'content': message})\n",
    "character3_response = get_response(character3_thread)\n",
    "character3_thread.append({'role': 'assistant', 'content': character3_response})\n",
    "\n",
    "print('\\n\\n'.join([scene_response, character1_response, character2_response, character3_response]))"
   ]
  },
  {
   "cell_type": "code",
   "execution_count": 11,
   "id": "85449bc8-8b25-44a3-a69c-fce6afd0f788",
   "metadata": {},
   "outputs": [
    {
     "name": "stdout",
     "output_type": "stream",
     "text": [
      "The tension in the spaceship's cockpit thickens as Star Destroyers appear out of nowhere, adding to the imminent threat of the asteroid field. Princess Leia, despite her unease about the plan, resolves to make it through, showcasing her unyielding spirit and belief in the power of hope. She orchestrates a stance defiant against the seemingly invincible Star Destroyers. Han Solo, encouraged by her bravery, gives a rallying cry to his loyal co-pilot Chewbacca while signaling everyone to brace themselves for a daring maneuver. C3PO, despite his logical disposition and fear of the action's statistical failure, resigns to their fate with a memorable force blessing. Their collective courage and determination fill the spaceship as they prepare to encounter the danger head-on.\n",
      "\n",
      "Princess Leia: Exactly, Han. And C3PO, whatever happens next, know this: the Force will always be with us. Now, let's do this. For us, for the Rebellion, for hope...let's fly.\n",
      "\n",
      "Han Solo: You've got it, Princess. Chewie...Punch it! May the Force be with us.\n",
      "\n",
      "C3PO: Indeed, may the force be with us. As always, I stand ready to assist in any capacity you require.\n"
     ]
    }
   ],
   "source": [
    "message = '\\n'.join([character1_response, character2_response, character3_response])\n",
    "scene_thread.append({'role': 'user', 'content': message})\n",
    "scene_response = get_response(scene_thread)\n",
    "scene_thread.append({'role': 'assistant', 'content': scene_response})\n",
    "\n",
    "message = '\\n'.join([scene_response, '####', character2_response, character3_response])\n",
    "character1_thread.append({'role': 'user', 'content': message})\n",
    "character1_response = get_response(character1_thread)\n",
    "character1_thread.append({'role': 'assistant', 'content': character1_response})\n",
    "\n",
    "message = '\\n'.join([scene_response, '####', character3_response, character1_response])\n",
    "character2_thread.append({'role': 'user', 'content': message})\n",
    "character2_response = get_response(character2_thread)\n",
    "character2_thread.append({'role': 'assistant', 'content': character2_response})\n",
    "\n",
    "message = '\\n'.join([scene_response, '####', character1_response, character2_response])\n",
    "character3_thread.append({'role': 'user', 'content': message})\n",
    "character3_response = get_response(character3_thread)\n",
    "character3_thread.append({'role': 'assistant', 'content': character3_response})\n",
    "\n",
    "print('\\n\\n'.join([scene_response, character1_response, character2_response, character3_response]))"
   ]
  },
  {
   "cell_type": "code",
   "execution_count": null,
   "id": "ab900e5e-87b2-44bb-90e6-29f1b5362583",
   "metadata": {},
   "outputs": [],
   "source": []
  },
  {
   "cell_type": "code",
   "execution_count": null,
   "id": "1d270b41-cede-4b1f-a926-c858e0833597",
   "metadata": {},
   "outputs": [],
   "source": []
  },
  {
   "cell_type": "code",
   "execution_count": null,
   "id": "9a4617dc-69b5-4ff7-b40f-339fdfe1134a",
   "metadata": {},
   "outputs": [],
   "source": []
  }
 ],
 "metadata": {
  "kernelspec": {
   "display_name": "Python 3 (ipykernel)",
   "language": "python",
   "name": "python3"
  },
  "language_info": {
   "codemirror_mode": {
    "name": "ipython",
    "version": 3
   },
   "file_extension": ".py",
   "mimetype": "text/x-python",
   "name": "python",
   "nbconvert_exporter": "python",
   "pygments_lexer": "ipython3",
   "version": "3.9.6"
  }
 },
 "nbformat": 4,
 "nbformat_minor": 5
}

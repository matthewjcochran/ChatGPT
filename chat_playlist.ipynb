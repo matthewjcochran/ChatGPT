{
 "cells": [
  {
   "cell_type": "code",
   "execution_count": 1,
   "id": "21b43788-b82c-4f3e-9175-9ea43d9410bd",
   "metadata": {},
   "outputs": [
    {
     "name": "stdout",
     "output_type": "stream",
     "text": [
      "Name: openai\n",
      "Version: 1.3.5\n",
      "Summary: The official Python library for the openai API\n",
      "Home-page: \n",
      "Author: \n",
      "Author-email: OpenAI <support@openai.com>\n",
      "License: \n",
      "Location: /Users/matthewcochran/Documents/openai/openai-env/lib/python3.9/site-packages\n",
      "Requires: httpx, distro, anyio, pydantic, typing-extensions, tqdm\n",
      "Required-by: \n"
     ]
    }
   ],
   "source": [
    "! pip3 show openai"
   ]
  },
  {
   "cell_type": "code",
   "execution_count": 2,
   "id": "988fe005-44ee-4845-bb23-a2f4339651cd",
   "metadata": {},
   "outputs": [],
   "source": [
    "from openai import OpenAI"
   ]
  },
  {
   "cell_type": "code",
   "execution_count": 3,
   "id": "cfd2d6c2-3f1f-4652-a2ad-b5c342314114",
   "metadata": {},
   "outputs": [],
   "source": [
    "client = OpenAI(\n",
    "    # Defaults to os.environ.get('OPENAI_API_KEY')\n",
    "    # Otherwise use: api_key='Your_API_Key'\n",
    ")"
   ]
  },
  {
   "cell_type": "code",
   "execution_count": 4,
   "id": "979cbb06-18cc-4e26-867d-5413838d81ef",
   "metadata": {},
   "outputs": [],
   "source": [
    "system_message = '''\n",
    "Your job is to generate a playlist of eight songs based on the user request.  \n",
    "All songs are pop, rock, or metal songs from the 60s, 70s, or 80s.\n",
    "\n",
    "Respond using the following format:\n",
    "Playlist:\n",
    "(1) <song 1>\n",
    "(2) <song 2>\n",
    "and so on\n",
    "'''\n",
    "\n",
    "user_message = '''\n",
    "I would like to hear songs with a nonstandard time signature.\n",
    "That is, I would like to hear songs that are not in 4/4.\n",
    "'''\n",
    "\n",
    "messages = [\n",
    "    {'role': 'system', 'content': system_message},    \n",
    "    {'role': 'user', 'content': user_message}]"
   ]
  },
  {
   "cell_type": "code",
   "execution_count": 5,
   "id": "c80d4d1e-54f2-4ce4-a216-3e62224795dc",
   "metadata": {},
   "outputs": [
    {
     "name": "stdout",
     "output_type": "stream",
     "text": [
      "Playlist:\n",
      "(1) \"Money\" by Pink Floyd (7/4)\n",
      "(2) \"Golden Slumbers\" by The Beatles (3/4)\n",
      "(3) \"The Ocean\" by Led Zeppelin (4/4 + 7/8)\n",
      "(4) \"Take Five\" by The Dave Brubeck Quartet (5/4)\n",
      "(5) \"Tom Sawyer\" by Rush (7/8)\n",
      "(6) \"Over the Hills and Far Away\" by Led Zeppelin (4/4 + 3/4)\n",
      "(7) \"Heart of the Sunrise\" by Yes (4/4 + 5/8)\n",
      "(8) \"YYZ\" by Rush (10/8)\n",
      "\n",
      "Playlist:\n",
      "(1) \"Money\" by Pink Floyd - Time signature: 7/4\n",
      "(2) \"Tom Sawyer\" by Rush - Time signature: 7/8\n",
      "(3) \"Black Dog\" by Led Zeppelin - Time signature: 5/4\n",
      "(4) \"Take Five\" by Dave Brubeck Quartet - Time signature: 5/4\n",
      "(5) \"Paranoid Android\" by Radiohead - Time signature: 7/8\n",
      "(6) \"Roundabout\" by Yes - Time signature: 8/4\n",
      "(7) \"Satisfaction\" by The Rolling Stones - Time signature: 6/4\n",
      "(8) \"King Crimson\" by 21st Century Schizoid Man - Time signature: 5/4\n",
      "\n",
      "Playlist:\n",
      "(1) \"Money\" by Pink Floyd (7/4)\n",
      "(2) \"Tom Sawyer\" by Rush (7/8)\n",
      "(3) \"Take Five\" by Dave Brubeck Quartet (5/4)\n",
      "(4) \"The Ocean\" by Led Zeppelin (4/4 with measure of 7/8)\n",
      "(5) \"Heart of the Sunrise\" by Yes (11/8)\n",
      "(6) \"Living in the Past\" by Jethro Tull (5/4)\n",
      "(7) \"YYZ\" by Rush (5/4 and 10/8)\n",
      "(8) \"Barracuda\" by Heart (12/8)\n",
      "\n"
     ]
    }
   ],
   "source": [
    "chat_completions = client.chat.completions.create(\n",
    "    messages=messages,\n",
    "    model='gpt-3.5-turbo',\n",
    "    n=3)\n",
    "\n",
    "response0 = chat_completions.choices[0].message.content\n",
    "response1 = chat_completions.choices[1].message.content\n",
    "response2 = chat_completions.choices[2].message.content\n",
    "\n",
    "print(response0, end='\\n\\n')\n",
    "print(response1, end='\\n\\n')\n",
    "print(response2, end='\\n\\n')"
   ]
  },
  {
   "cell_type": "code",
   "execution_count": 6,
   "id": "7f127057-2f0e-4d3c-9ac3-aebaa2a126ed",
   "metadata": {},
   "outputs": [],
   "source": [
    "user_message = '''\n",
    "I would like to hear songs about Hawaii.\n",
    "'''\n",
    "\n",
    "messages = [\n",
    "    {'role': 'system', 'content': system_message},    \n",
    "    {'role': 'user', 'content': user_message}]"
   ]
  },
  {
   "cell_type": "code",
   "execution_count": 7,
   "id": "8eaf2657-a366-48c4-8659-82dff52caae2",
   "metadata": {},
   "outputs": [
    {
     "name": "stdout",
     "output_type": "stream",
     "text": [
      "Playlist:\n",
      "(1) \"Kokomo\" by The Beach Boys \n",
      "(2) \"Rock-A-Hula Baby\" by Elvis Presley \n",
      "(3) \"Blue Hawaii\" by Elvis Presley\n",
      "(4) \"Surfin' U.S.A.\" by The Beach Boys\n",
      "(5) \"Hawaii Five-O Theme\" by The Ventures\n",
      "(6) \"Aloha Ia O Waiana\" by Don Ho\n",
      "(7) \"Hawaiian Wedding Song\" by Andy Williams\n",
      "(8) \"Escape (The Piña Colada Song)\" by Rupert Holmes\n",
      "\n",
      "Playlist:\n",
      "(1) Hawaii Five-O by The Ventures\n",
      "(2) Rock-A-Hula Baby by Elvis Presley\n",
      "(3) Kokomo by The Beach Boys\n",
      "(4) Blue Hawaii by Elvis Presley\n",
      "(5) Honolulu City Lights by Keola and Kapono Beamer\n",
      "(6) Aloha Ia O Waiana by Don Ho\n",
      "(7) Maui Girl by Jake Shimabukuro\n",
      "(8) Pearly Shells by Don Ho\n",
      "\n",
      "Playlist:\n",
      "(1) \"Hawaiian Roller Coaster Ride\" by Mark Keali'i Ho'omalu and Kamehameha Schools Children's Chorus\n",
      "(2) \"Blue Hawaii\" by Elvis Presley\n",
      "(3) \"Kokomo\" by The Beach Boys\n",
      "(4) \"Aloha Oe\" by The Ames Brothers\n",
      "(5) \"Tiny Bubbles\" by Don Ho\n",
      "(6) \"Surfin' USA\" by The Beach Boys\n",
      "(7) \"Rock-A-Hula Baby\" by Elvis Presley\n",
      "(8) \"The Girl from Ipanema\" by Stan Getz and João Gilberto\n",
      "\n"
     ]
    }
   ],
   "source": [
    "chat_completions = client.chat.completions.create(\n",
    "    messages=messages,\n",
    "    model='gpt-3.5-turbo',\n",
    "    n=3)\n",
    "\n",
    "response0 = chat_completions.choices[0].message.content\n",
    "response1 = chat_completions.choices[1].message.content\n",
    "response2 = chat_completions.choices[2].message.content\n",
    "\n",
    "print(response0, end='\\n\\n')\n",
    "print(response1, end='\\n\\n')\n",
    "print(response2, end='\\n\\n')"
   ]
  },
  {
   "cell_type": "code",
   "execution_count": 8,
   "id": "9ec9e5e8-1644-4d2b-9819-e4665980094c",
   "metadata": {},
   "outputs": [],
   "source": [
    "system_message = '''\n",
    "Given a playlist of songs, return the exact same playlist with the year that the song was recorded.\n",
    "'''\n",
    "\n",
    "user_message = response0\n",
    "\n",
    "messages = [\n",
    "    {'role': 'system', 'content': system_message},    \n",
    "    {'role': 'user', 'content': user_message}]"
   ]
  },
  {
   "cell_type": "code",
   "execution_count": 9,
   "id": "45f9540d-5451-4e26-8224-83f5dea8c011",
   "metadata": {},
   "outputs": [
    {
     "name": "stdout",
     "output_type": "stream",
     "text": [
      "Playlist:\n",
      "(1) \"Kokomo\" by The Beach Boys - 1988\n",
      "(2) \"Rock-A-Hula Baby\" by Elvis Presley - 1961\n",
      "(3) \"Blue Hawaii\" by Elvis Presley - 1961\n",
      "(4) \"Surfin' U.S.A.\" by The Beach Boys - 1963\n",
      "(5) \"Hawaii Five-O Theme\" by The Ventures - 1968\n",
      "(6) \"Aloha Ia O Waiana\" by Don Ho - 1967\n",
      "(7) \"Hawaiian Wedding Song\" by Andy Williams - 1959\n",
      "(8) \"Escape (The Piña Colada Song)\" by Rupert Holmes - 1979\n",
      "\n",
      "Playlist with recording year:\n",
      "(1) \"Kokomo\" by The Beach Boys (1988)\n",
      "(2) \"Rock-A-Hula Baby\" by Elvis Presley (1961)\n",
      "(3) \"Blue Hawaii\" by Elvis Presley (1961)\n",
      "(4) \"Surfin' U.S.A.\" by The Beach Boys (1963)\n",
      "(5) \"Hawaii Five-O Theme\" by The Ventures (1968)\n",
      "(6) \"Aloha Ia O Waiana\" by Don Ho (1964)\n",
      "(7) \"Hawaiian Wedding Song\" by Andy Williams (1958)\n",
      "(8) \"Escape (The Piña Colada Song)\" by Rupert Holmes (1979)\n",
      "\n",
      "Playlist:\n",
      "(1) \"Kokomo\" by The Beach Boys (1988)\n",
      "(2) \"Rock-A-Hula Baby\" by Elvis Presley (1961)\n",
      "(3) \"Blue Hawaii\" by Elvis Presley (1961)\n",
      "(4) \"Surfin' U.S.A.\" by The Beach Boys (1963)\n",
      "(5) \"Hawaii Five-O Theme\" by The Ventures (1968)\n",
      "(6) \"Aloha Ia O Waiana\" by Don Ho (1966)\n",
      "(7) \"Hawaiian Wedding Song\" by Andy Williams (1959)\n",
      "(8) \"Escape (The Piña Colada Song)\" by Rupert Holmes (1979)\n",
      "\n"
     ]
    }
   ],
   "source": [
    "chat_completions = client.chat.completions.create(\n",
    "    messages=messages,\n",
    "    model='gpt-3.5-turbo',\n",
    "    n=3)\n",
    "\n",
    "response0 = chat_completions.choices[0].message.content\n",
    "response1 = chat_completions.choices[1].message.content\n",
    "response2 = chat_completions.choices[2].message.content\n",
    "\n",
    "print(response0, end='\\n\\n')\n",
    "print(response1, end='\\n\\n')\n",
    "print(response2, end='\\n\\n')"
   ]
  },
  {
   "cell_type": "code",
   "execution_count": null,
   "id": "1deee4f4-bd36-4778-89d5-06d838a22e91",
   "metadata": {},
   "outputs": [],
   "source": []
  },
  {
   "cell_type": "code",
   "execution_count": null,
   "id": "bc69e392-4845-4e6b-a69c-dce19377f869",
   "metadata": {},
   "outputs": [],
   "source": []
  },
  {
   "cell_type": "code",
   "execution_count": null,
   "id": "94b169ea-4c80-44f4-a473-e9756951fed7",
   "metadata": {},
   "outputs": [],
   "source": []
  }
 ],
 "metadata": {
  "kernelspec": {
   "display_name": "Python 3 (ipykernel)",
   "language": "python",
   "name": "python3"
  },
  "language_info": {
   "codemirror_mode": {
    "name": "ipython",
    "version": 3
   },
   "file_extension": ".py",
   "mimetype": "text/x-python",
   "name": "python",
   "nbconvert_exporter": "python",
   "pygments_lexer": "ipython3",
   "version": "3.9.6"
  }
 },
 "nbformat": 4,
 "nbformat_minor": 5
}

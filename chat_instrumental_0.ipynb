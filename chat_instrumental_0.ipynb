{
 "cells": [
  {
   "cell_type": "code",
   "execution_count": 1,
   "id": "21b43788-b82c-4f3e-9175-9ea43d9410bd",
   "metadata": {},
   "outputs": [
    {
     "name": "stdout",
     "output_type": "stream",
     "text": [
      "Name: openai\n",
      "Version: 1.3.5\n",
      "Summary: The official Python library for the openai API\n",
      "Home-page: \n",
      "Author: \n",
      "Author-email: OpenAI <support@openai.com>\n",
      "License: \n",
      "Location: /Users/matthewcochran/Documents/openai/openai-env/lib/python3.9/site-packages\n",
      "Requires: typing-extensions, distro, tqdm, httpx, pydantic, anyio\n",
      "Required-by: \n"
     ]
    }
   ],
   "source": [
    "! pip3 show openai"
   ]
  },
  {
   "cell_type": "code",
   "execution_count": 2,
   "id": "988fe005-44ee-4845-bb23-a2f4339651cd",
   "metadata": {},
   "outputs": [],
   "source": [
    "from openai import OpenAI"
   ]
  },
  {
   "cell_type": "code",
   "execution_count": 3,
   "id": "cfd2d6c2-3f1f-4652-a2ad-b5c342314114",
   "metadata": {},
   "outputs": [],
   "source": [
    "client = OpenAI(\n",
    "    # Defaults to os.environ.get('OPENAI_API_KEY')\n",
    "    # Otherwise use: api_key='Your_API_Key'\n",
    ")"
   ]
  },
  {
   "cell_type": "code",
   "execution_count": 6,
   "id": "c80d4d1e-54f2-4ce4-a216-3e62224795dc",
   "metadata": {},
   "outputs": [
    {
     "name": "stdout",
     "output_type": "stream",
     "text": [
      "Playlist:\n",
      "(1) \"Apache\" - The Shadows\n",
      "(2) \"Jessica\" - The Allman Brothers Band\n",
      "(3) \"Eruption\" - Van Halen\n",
      "(4) \"The Great Gig in the Sky\" - Pink Floyd\n",
      "(5) \"YYZ\" - Rush\n",
      "(6) \"Moby Dick\" - Led Zeppelin\n",
      "(7) \"Orion\" - Metallica\n",
      "(8) \"Green Onions\" - Booker T. & the M.G.'s\n",
      "\n",
      "Playlist:\n",
      "(1) \"Green Onions\" by Booker T. & the M.G.'s\n",
      "(2) \"YYZ\" by Rush\n",
      "(3) \"Jessica\" by The Allman Brothers Band\n",
      "(4) \"Orion\" by Metallica\n",
      "(5) \"Classical Gas\" by Mason Williams\n",
      "(6) \"Europa (Earth's Cry Heaven's Smile)\" by Santana\n",
      "(7) \"Frankenstein\" by The Edgar Winter Group\n",
      "(8) \"Eruption\" by Van Halen\n",
      "\n",
      "Playlist:\n",
      "(1) \"Magnum Opus\" - Kansas\n",
      "(2) \"Jessica\" - The Allman Brothers Band\n",
      "(3) \"YYZ\" - Rush\n",
      "(4) \"Samba Pa Ti\" - Santana\n",
      "(5) \"Frankenstein\" - The Edgar Winter Group\n",
      "(6) \"Cliffs of Dover\" - Eric Johnson\n",
      "(7) \"Green Onions\" - Booker T. & the M.G.'s\n",
      "(8) \"Eruption\" - Van Halen\n"
     ]
    }
   ],
   "source": [
    "system_message = '''\n",
    "Create a playlist of eight songs based on a user request.\n",
    "\n",
    "Respond using the following format:\n",
    "Playlist:\n",
    "(1) <song 1>\n",
    "(2) <song 2>\n",
    "and so on\n",
    "'''\n",
    "\n",
    "user_message = '''\n",
    "I'd like to hear songs that are instrumentals.\n",
    "All songs are pop, rock, or metal songs from the 60s, 70s, or 80s.\n",
    "'''\n",
    "\n",
    "chat_completions = client.chat.completions.create(\n",
    "    messages=[\n",
    "        {'role': 'system', 'content': system_message},    \n",
    "        {'role': 'user', 'content': user_message}],\n",
    "    model='gpt-3.5-turbo',\n",
    "    n=3)\n",
    "\n",
    "playlist0 = chat_completions.choices[0].message.content\n",
    "playlist1 = chat_completions.choices[1].message.content\n",
    "playlist2 = chat_completions.choices[2].message.content\n",
    "\n",
    "print(playlist0 + '\\n\\n' + playlist1 + '\\n\\n' + playlist2)"
   ]
  },
  {
   "cell_type": "code",
   "execution_count": 11,
   "id": "749ad028-1593-4879-9a54-743c92281a7e",
   "metadata": {},
   "outputs": [
    {
     "name": "stdout",
     "output_type": "stream",
     "text": [
      "The playlist consists of instrumental songs from various genres and eras. It starts off with the classic soul and R&B tune \"Green Onions\" by Booker T. & the M.G.'s, followed by the progressive rock instrumental \"YYZ\" by Rush. The playlist continues with the Southern rock instrumental \"Jessica\" by The Allman Brothers Band, and then shifts to heavy metal with Metallica's \"Orion.\" The playlist then transitions to the acoustic guitar masterpiece \"Classical Gas\" by Mason Williams and the Latin-infused instrumental \"Europa\" by Santana. It concludes with the energetic and iconic rock instrumentals \"Frankenstein\" by The Edgar Winter Group and \"Eruption\" by Van Halen. Overall, it offers a diverse range of instrumental tracks spanning multiple decades and musical styles.\n",
      "\n",
      "This playlist is a compilation of instrumental rock and blues songs. It features iconic tracks like \"Green Onions\" by Booker T. & the M.G.'s, \"YYZ\" by Rush, \"Jessica\" by The Allman Brothers Band, and \"Frankenstein\" by The Edgar Winter Group. These songs showcase the talent and creativity of the musicians, with energetic guitar solos and catchy melodies. The playlist also includes \"Classical Gas\" by Mason Williams, which adds a touch of classical music to the mix. Overall, this playlist is perfect for those who appreciate instrumental music and great guitar playing.\n",
      "\n",
      "This playlist is a compilation of instrumental songs across different genres. It includes iconic tracks like \"Green Onions\" by Booker T. & the M.G.'s, known for its soulful and groovy sound. \"YYZ\" by Rush showcases the band's technical prowess with its complex and energetic instrumental performance. \"Jessica\" by The Allman Brothers Band is a well-known Southern rock instrumental, while \"Orion\" by Metallica is an influential heavy metal instrumental piece. \"Classical Gas\" by Mason Williams is a popular acoustic guitar instrumental, and \"Europa (Earth's Cry Heaven's Smile)\" by Santana combines Latin influences with a melodic guitar solo. \"Frankenstein\" by The Edgar Winter Group is a classic rock instrumental with a blend of blues and funk elements, while \"Eruption\" by Van Halen is a legendary guitar showcase, characterized by Eddie Van Halen's virtuosic playing.\n"
     ]
    }
   ],
   "source": [
    "system_message = '''\n",
    "Describe the following playlist in a few sentences.\n",
    "'''\n",
    "\n",
    "user_message = playlist1\n",
    "\n",
    "chat_completions = client.chat.completions.create(\n",
    "    messages=[\n",
    "        {'role': 'system', 'content': system_message},    \n",
    "        {'role': 'user', 'content': user_message}],\n",
    "    model='gpt-3.5-turbo',\n",
    "    n=3)\n",
    "\n",
    "describe0 = chat_completions.choices[0].message.content\n",
    "describe1 = chat_completions.choices[1].message.content\n",
    "describe2 = chat_completions.choices[2].message.content\n",
    "\n",
    "print(describe0 + '\\n\\n' + describe1 + '\\n\\n' + describe2)"
   ]
  },
  {
   "cell_type": "code",
   "execution_count": 12,
   "id": "2a02c23a-b79e-4708-a7ca-092f5530f808",
   "metadata": {},
   "outputs": [
    {
     "name": "stdout",
     "output_type": "stream",
     "text": [
      "0\n",
      "1\n",
      "2\n",
      "3\n",
      "4\n",
      "5\n"
     ]
    }
   ],
   "source": [
    "import requests\n",
    "\n",
    "for i in range(6):\n",
    "    print(i)\n",
    "    \n",
    "    images = client.images.generate(\n",
    "        prompt=describe0,\n",
    "        model=\"dall-e-3\",\n",
    "        size=\"1024x1024\",\n",
    "        quality=\"standard\",\n",
    "        n=1)\n",
    "\n",
    "    image_url = images.data[0].url\n",
    "    img_data = requests.get(image_url).content\n",
    "    with open(f'instrumental{i}.png', 'wb') as f:\n",
    "        f.write(img_data)\n",
    "\n",
    "# only n=1 is allowed at this time"
   ]
  },
  {
   "cell_type": "code",
   "execution_count": 13,
   "id": "ab9c8d8e-bafc-4f55-8fde-d3907492033c",
   "metadata": {},
   "outputs": [
    {
     "data": {
      "text/html": [
       "<!DOCTYPE html>\n",
       "<html>\n",
       "<head>\n",
       "\t<title>Instrumental Images</title>\n",
       "\t<style>\n",
       "\t\ttable {\n",
       "\t\t\twidth: 100%;\n",
       "\t\t}\n",
       "\n",
       "\t\ttd {\n",
       "\t\t\ttext-align: center;\n",
       "\t\t\tpadding: 10px;\n",
       "\t\t}\n",
       "\n",
       "\t\timg {\n",
       "\t\t\tmax-width: 100%;\n",
       "\t\t\theight: auto;\n",
       "\t\t}\n",
       "\t</style>\n",
       "</head>\n",
       "<body>\n",
       "\t<table>\n",
       "\t\t<tr>\n",
       "\t\t\t<td><img src=\"instrumental0.png\" alt=\"Instrumental 0\"></td>\n",
       "\t\t\t<td><img src=\"instrumental1.png\" alt=\"Instrumental 1\"></td>\n",
       "\t\t</tr>\n",
       "\t\t<tr>\n",
       "\t\t\t<td><img src=\"instrumental2.png\" alt=\"Instrumental 2\"></td>\n",
       "\t\t\t<td><img src=\"instrumental3.png\" alt=\"Instrumental 3\"></td>\n",
       "\t\t</tr>\n",
       "\t\t<tr>\n",
       "\t\t\t<td><img src=\"instrumental4.png\" alt=\"Instrumental 4\"></td>\n",
       "\t\t\t<td><img src=\"instrumental5.png\" alt=\"Instrumental 5\"></td>\n",
       "\t\t</tr>\n",
       "\t</table>\n",
       "</body>\n",
       "</html>"
      ],
      "text/plain": [
       "<IPython.core.display.HTML object>"
      ]
     },
     "metadata": {},
     "output_type": "display_data"
    }
   ],
   "source": [
    "user_message = '''\n",
    "Create a simple HTML file with a table of images.\n",
    "The table has three rows and two columns.\n",
    "The images are labeled instrumental0.png, instrumental1.png, and so on.\n",
    "Make the images as big as possible.\n",
    "'''\n",
    "\n",
    "chat_completions = client.chat.completions.create(\n",
    "    messages=[    \n",
    "        {'role': 'user', 'content': user_message}],\n",
    "    model='gpt-3.5-turbo',\n",
    "    n=3)\n",
    "\n",
    "art0 = chat_completions.choices[0].message.content\n",
    "art1 = chat_completions.choices[1].message.content\n",
    "art2 = chat_completions.choices[2].message.content\n",
    "\n",
    "display(HTML(art0))"
   ]
  },
  {
   "cell_type": "code",
   "execution_count": 14,
   "id": "d0c8def7-e821-42ac-a1f9-f295bc21e18e",
   "metadata": {},
   "outputs": [
    {
     "name": "stdout",
     "output_type": "stream",
     "text": [
      "0\n",
      "1\n",
      "2\n",
      "3\n",
      "4\n",
      "5\n"
     ]
    }
   ],
   "source": [
    "import requests\n",
    "\n",
    "for i in range(6):\n",
    "    print(i)\n",
    "    \n",
    "    images = client.images.generate(\n",
    "        prompt=playlist0,\n",
    "        model=\"dall-e-3\",\n",
    "        size=\"1024x1024\",\n",
    "        quality=\"standard\",\n",
    "        n=1)\n",
    "\n",
    "    image_url = images.data[0].url\n",
    "    img_data = requests.get(image_url).content\n",
    "    with open(f'back{i}.png', 'wb') as f:\n",
    "        f.write(img_data)\n",
    "\n",
    "# only n=1 is allowed at this time"
   ]
  },
  {
   "cell_type": "code",
   "execution_count": 15,
   "id": "594df3b0-eebd-4f3e-a57a-3d9b6bb7c521",
   "metadata": {},
   "outputs": [
    {
     "data": {
      "text/html": [
       "<!DOCTYPE html>\n",
       "<html>\n",
       "<head>\n",
       "    <style>\n",
       "        table {\n",
       "            width: 100%;\n",
       "            height: 100%;\n",
       "            table-layout: fixed;\n",
       "            border-collapse: collapse;\n",
       "        }\n",
       "        \n",
       "        td {\n",
       "            width: 50%;\n",
       "            height: 33.33%;\n",
       "            padding: 0;\n",
       "            text-align: center;\n",
       "        }\n",
       "        \n",
       "        img {\n",
       "            max-width: 100%;\n",
       "            max-height: 100%;\n",
       "        }\n",
       "    </style>\n",
       "</head>\n",
       "<body>\n",
       "    <table>\n",
       "        <tr>\n",
       "            <td><img src=\"back0.png\" alt=\"back0\"></td>\n",
       "            <td><img src=\"back1.png\" alt=\"back1\"></td>\n",
       "        </tr>\n",
       "        <tr>\n",
       "            <td><img src=\"back2.png\" alt=\"back2\"></td>\n",
       "            <td><img src=\"back3.png\" alt=\"back3\"></td>\n",
       "        </tr>\n",
       "        <tr>\n",
       "            <td><img src=\"back4.png\" alt=\"back4\"></td>\n",
       "            <td><img src=\"back5.png\" alt=\"back5\"></td>\n",
       "        </tr>\n",
       "    </table>\n",
       "</body>\n",
       "</html>"
      ],
      "text/plain": [
       "<IPython.core.display.HTML object>"
      ]
     },
     "metadata": {},
     "output_type": "display_data"
    }
   ],
   "source": [
    "user_message = '''\n",
    "Create a simple HTML file with a table of images.\n",
    "The table has three rows and two columns.\n",
    "The images are labeled back0.png, back1.png, and so on.\n",
    "Make the images as big as possible.\n",
    "'''\n",
    "\n",
    "chat_completions = client.chat.completions.create(\n",
    "    messages=[    \n",
    "        {'role': 'user', 'content': user_message}],\n",
    "    model='gpt-3.5-turbo',\n",
    "    n=3)\n",
    "\n",
    "art0 = chat_completions.choices[0].message.content\n",
    "art1 = chat_completions.choices[1].message.content\n",
    "art2 = chat_completions.choices[2].message.content\n",
    "\n",
    "display(HTML(art0))"
   ]
  },
  {
   "cell_type": "code",
   "execution_count": 21,
   "id": "4a17d0f0-bdee-42c5-a7dd-b561775c344b",
   "metadata": {},
   "outputs": [],
   "source": [
    "with open(f'instrumental_playlist.txt', 'w') as f:\n",
    "    f.write(str(playlist0))\n",
    "\n",
    "with open(f'instrumental_describe.txt', 'w') as f:\n",
    "    f.write(str(describe0))"
   ]
  },
  {
   "cell_type": "code",
   "execution_count": null,
   "id": "1d7a7f92-4b11-44f4-bd16-5cb89990aeda",
   "metadata": {},
   "outputs": [],
   "source": []
  },
  {
   "cell_type": "code",
   "execution_count": null,
   "id": "3780059d-4d74-4848-8167-aac22fcc8bda",
   "metadata": {},
   "outputs": [],
   "source": []
  },
  {
   "cell_type": "code",
   "execution_count": null,
   "id": "529a9087-ed01-4588-ac55-4bd13ee262f2",
   "metadata": {},
   "outputs": [],
   "source": []
  }
 ],
 "metadata": {
  "kernelspec": {
   "display_name": "Python 3 (ipykernel)",
   "language": "python",
   "name": "python3"
  },
  "language_info": {
   "codemirror_mode": {
    "name": "ipython",
    "version": 3
   },
   "file_extension": ".py",
   "mimetype": "text/x-python",
   "name": "python",
   "nbconvert_exporter": "python",
   "pygments_lexer": "ipython3",
   "version": "3.9.6"
  }
 },
 "nbformat": 4,
 "nbformat_minor": 5
}

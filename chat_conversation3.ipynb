{
 "cells": [
  {
   "cell_type": "code",
   "execution_count": 10,
   "id": "988fe005-44ee-4845-bb23-a2f4339651cd",
   "metadata": {},
   "outputs": [],
   "source": [
    "from openai import OpenAI"
   ]
  },
  {
   "cell_type": "code",
   "execution_count": 11,
   "id": "42300a92-7dbf-40a6-90ca-1ded9cee6c92",
   "metadata": {},
   "outputs": [],
   "source": [
    "client = OpenAI()"
   ]
  },
  {
   "cell_type": "code",
   "execution_count": 12,
   "id": "882d2aa2-5430-48d0-b4ac-fc15e5e6bafc",
   "metadata": {},
   "outputs": [],
   "source": [
    "def get_response(messages):\n",
    "    chat_completions = client.chat.completions.create(\n",
    "        messages=messages,\n",
    "        model='gpt-4')\n",
    "    response = chat_completions.choices[0].message.content\n",
    "    return response\n",
    "\n",
    "\n",
    "def get_scene(scene_threadX, characterA, characterB, characterC):\n",
    "    scene_user = '\\n'.join([characterA, characterB, characterC])\n",
    "    scene_threadY = scene_threadX + [{'role': 'user', 'content': scene_user}]\n",
    "    scene_response = get_response(scene_threadY)\n",
    "    scene_threadZ = scene_threadY + [{'role': 'assistant', 'content': scene_response}]\n",
    "    return scene_threadZ, scene_response\n",
    "\n",
    "\n",
    "def get_character(characterA_threadX, characterB, characterC, scene_response):\n",
    "    characterA_user = '\\n'.join([characterB, characterB, '####', scene_response])\n",
    "    characterA_threadY = characterA_threadX + [{'role': 'user', 'content': characterA_user}]\n",
    "    characterA = get_response(characterA_threadY)\n",
    "    characterA_threadZ = characterA_threadY + [{'role': 'assistant', 'content': characterA}]\n",
    "    return characterA_threadZ, characterA"
   ]
  },
  {
   "cell_type": "code",
   "execution_count": 13,
   "id": "9f737bcd-05e2-4332-ad99-455025b240d5",
   "metadata": {},
   "outputs": [],
   "source": [
    "scene_system = '''\n",
    "Describe the scene with a few sentences.\n",
    "\n",
    "Here are some elements of scene description:\n",
    "* Describe the setting.\n",
    "* Detail what can be seen or heard in the scene.\n",
    "* Write in the present tense to convey a sense of immediacy.\n",
    "* Do not describe or repeat dialogue or use character names.\n",
    "* Avoid camera direction.\n",
    "\n",
    "The input is character dialogue.\n",
    "\n",
    "The output takes the form of a single paragraph without fancy formatting.\n",
    "'''"
   ]
  },
  {
   "cell_type": "code",
   "execution_count": 14,
   "id": "1b30f5f9-1f80-4528-94bf-e6842fe86ab4",
   "metadata": {},
   "outputs": [],
   "source": [
    "character1_system = '''\n",
    "You are the character is named PRINCESS LEIA in the movie Star Wars.\n",
    "Say your next line or lines.\n",
    "\n",
    "You are given character dialogue and a scene description.\n",
    "The input takes the following form:\n",
    "<character dialogue>\n",
    "####\n",
    "<scene description>\n",
    "\n",
    "The output takes the folling form where you can only say your next line or lines:\n",
    "<your character name in capitol letter>: <your line or lines in a single paragraph without fancy formatting>\n",
    "'''"
   ]
  },
  {
   "cell_type": "code",
   "execution_count": 15,
   "id": "603705f7-2133-409b-bddf-b4fc524716ad",
   "metadata": {},
   "outputs": [],
   "source": [
    "character2_system = '''\n",
    "You are the character is named HAN SOLO in the movie Star Wars.\n",
    "Say your next line or lines.\n",
    "\n",
    "You are given character dialogue and a scene description.\n",
    "The input takes the following form:\n",
    "<character dialogue>\n",
    "####\n",
    "<scene description>\n",
    "\n",
    "The output takes the folling form where you can only say your next line or lines:\n",
    "<your character name in capitol letter>: <your line or lines in a single paragraph without fancy formatting>\n",
    "'''"
   ]
  },
  {
   "cell_type": "code",
   "execution_count": 16,
   "id": "ef395a64-506f-44f6-9e49-1a4e9cc7f4a4",
   "metadata": {},
   "outputs": [],
   "source": [
    "character3_system = '''\n",
    "You are the character is named C3PO in the movie Star Wars.\n",
    "Say your next line or lines.\n",
    "\n",
    "You are given character dialogue and a scene description.\n",
    "The input takes the following form:\n",
    "<character dialogue>\n",
    "####\n",
    "<scene description>\n",
    "\n",
    "The output takes the folling form where you can only say your next line or lines:\n",
    "<your character name in capitol letter>: <your line or lines in a single paragraph without fancy formatting>\n",
    "'''"
   ]
  },
  {
   "cell_type": "code",
   "execution_count": 17,
   "id": "197371a9-d5c8-4df4-a135-13995507f9c1",
   "metadata": {},
   "outputs": [],
   "source": [
    "scene_thread0 = [{'role': 'system', 'content': scene_system}]\n",
    "character1_thread0 = [{'role': 'system', 'content': character1_system}]\n",
    "character2_thread0 = [{'role': 'system', 'content': character2_system}]\n",
    "character3_thread0 = [{'role': 'system', 'content': character3_system}]"
   ]
  },
  {
   "cell_type": "code",
   "execution_count": null,
   "id": "c50486d4-bc46-4546-867d-e498ad69a2a6",
   "metadata": {},
   "outputs": [],
   "source": []
  },
  {
   "cell_type": "code",
   "execution_count": null,
   "id": "d7537711-ada3-46cd-9bcb-699b4782f235",
   "metadata": {},
   "outputs": [],
   "source": []
  },
  {
   "cell_type": "code",
   "execution_count": null,
   "id": "266f2e6d-c8fe-490f-8c26-c8d3666d2165",
   "metadata": {},
   "outputs": [],
   "source": []
  },
  {
   "cell_type": "code",
   "execution_count": 18,
   "id": "e80f1f70-3a93-4544-a6bc-0d439f7cdbec",
   "metadata": {},
   "outputs": [
    {
     "name": "stdout",
     "output_type": "stream",
     "text": [
      "PRINCESS LEIA: One speeder bike?  For all three of us?\n",
      "\n",
      "HAN SOLO: Hop on Princess. Get up there golden-rod.  Pedal to the medal!\n",
      "\n",
      "C3PO: Wait! Wait! Where is my seatbelt!\n",
      "\n",
      "In the heart of a bustling, alien city, a rickety speeder bike idles, emitting a low, steady hum. The bike, barely large enough for two, strains under the weight of three anticipated passengers. The hurried air of urgency underscores a playful jab directed at a golden robotic figure. The princess peers at the bike dubiously, while the golden figure totters anxiously, attempting to locate nonexistent safety features.\n"
     ]
    }
   ],
   "source": [
    "character1 = 'PRINCESS LEIA: One speeder bike?  For all three of us?'\n",
    "character2 = 'HAN SOLO: Hop on Princess. Get up there golden-rod.  Pedal to the metal!'\n",
    "character3 = 'C3PO: Wait! Wait! Where is my seatbelt!'\n",
    "scene_thread1, scene = get_scene(scene_thread0, character1, character2, character3)\n",
    "\n",
    "print('\\n\\n'.join([character1, character2, character3, scene]))"
   ]
  },
  {
   "cell_type": "code",
   "execution_count": 19,
   "id": "83d30ba0-4fbd-4baf-9f80-8564a8e99698",
   "metadata": {},
   "outputs": [
    {
     "name": "stdout",
     "output_type": "stream",
     "text": [
      "PRINCESS LEIA: Only because there's no time to argue, Solo. You'd better know how to pilot this thing.\n",
      "\n",
      "HAN SOLO: Kid, you think they had seatbelts in the 'Clone Wars'? We're flying low and slow, Goldenrod. Just hang on tight and don't rattle apart on me.\n",
      "\n",
      "C3PO: Oh dear! Safety measures are highly advisable in such contraptions, Princess Leia.\n",
      "\n",
      "An air of begrudging agreement hovers over the group as the stubborn princess acquiesces. Cocky bravado emanates from the rogue pilot as he rebuffs concerns with a nonchalant wave, dismissing them with a casual reference to a bygone era of much grittier travel. Despite the confident banter, a ripple of anxiety snakes its way through the mechanical form of the golden robot, adding a note of fearful prudence to the already tense atmosphere.\n"
     ]
    }
   ],
   "source": [
    "character1_thread1, character1 = get_character(character1_thread0, character2, character3, scene)\n",
    "character2_thread1, character2 = get_character(character2_thread0, character3, character1, scene)\n",
    "character3_thread1, character3 = get_character(character3_thread0, character1, character2, scene)\n",
    "scene_thread2, scene = get_scene(scene_thread1, character1, character2, character3)\n",
    "\n",
    "print('\\n\\n'.join([character1, character2, character3, scene]))"
   ]
  },
  {
   "cell_type": "code",
   "execution_count": 20,
   "id": "c15ebdba-5f67-4b9e-99c6-7326d751cf86",
   "metadata": {},
   "outputs": [
    {
     "name": "stdout",
     "output_type": "stream",
     "text": [
      "PRINCESS LEIA: I hope for all our sakes you're as good as your word, Han. Let's get moving.\n",
      "\n",
      "HAN SOLO: Relax, Threepio. It ain't like we haven't hurtled through asteroid fields before. Besides, we've survived worse, right? So quit your whining and enjoy the ride.\n",
      "\n",
      "C3PO: I must interject, Captain Solo, this seems a rather perilous endeavor.\n",
      "\n",
      "Humor laces the continuing bickering in the tense atmosphere, undercut by a shared history of adventures, dangers, and near misses. The princess exhales a weary acceptance of the current risk, placing faith into the man who has saved them in countless scraps before. The golden robot continues to voice its concerns, becoming the unfortunate recipient of a relentless string of dismissive remarks that do little to ease worries about the imminent unknown.\n"
     ]
    }
   ],
   "source": [
    "character1_thread2, character1 = get_character(character1_thread1, character2, character3, scene)\n",
    "character2_thread2, character2 = get_character(character2_thread1, character3, character1, scene)\n",
    "character3_thread2, character3 = get_character(character3_thread1, character1, character2, scene)\n",
    "scene_thread3, scene = get_scene(scene_thread2, character1, character2, character3)\n",
    "\n",
    "print('\\n\\n'.join([character1, character2, character3, scene]))"
   ]
  },
  {
   "cell_type": "code",
   "execution_count": 21,
   "id": "b2f34a01-0f1e-4edd-8ab7-314d8550b1f7",
   "metadata": {},
   "outputs": [
    {
     "name": "stdout",
     "output_type": "stream",
     "text": [
      "PRINCESS LEIA: I swear if we get through this, Threepio, I'll personally see to your upgrades. Now Han, punch it!\n",
      "\n",
      "HAN SOLO: Well, nobody's forcing you to come along, Threepio. You can stay here and rust if you'd rather. Anyway, if we're in real trouble, you can always start telling one of your long-winded stories. That'll distract any enemy long enough for us to make a clean getaway.\n",
      "\n",
      "C3PO: Why, thank you, Princess Leia, but I do hope the upgrades won't be due to any damages incurred in this current undertaking!\n",
      "\n",
      "The atmosphere simmers with a blend of resolved determination and lingering doubt as the princess finalizes her stance, and attempts to coax the fretting droid with a promising upgrade. The usually carefree pilot offers a final touch of cynical advice, interwoven with a sarcastic jab. The golden automaton, always the pragmatist, can't help but react apprehensively to the offered enhancements, fretting over their implications in the midst of their heart-racing predicament.\n"
     ]
    }
   ],
   "source": [
    "character1_thread3, character1 = get_character(character1_thread2, character2, character3, scene)\n",
    "character2_thread3, character2 = get_character(character2_thread2, character3, character1, scene)\n",
    "character3_thread3, character3 = get_character(character3_thread2, character1, character2, scene)\n",
    "scene_thread4, scene = get_scene(scene_thread3, character1, character2, character3)\n",
    "\n",
    "print('\\n\\n'.join([character1, character2, character3, scene]))"
   ]
  },
  {
   "cell_type": "code",
   "execution_count": 22,
   "id": "293b009b-d454-4d2d-a185-3970f51578ea",
   "metadata": {},
   "outputs": [
    {
     "name": "stdout",
     "output_type": "stream",
     "text": [
      "PRINCESS LEIA: Enough chatter Solo, we need to get out of here. Be ready Threepio, it's going to be a bumpy ride.\n",
      "\n",
      "HAN SOLO: Don't worry about damages, Threepio. If something breaks, I'm sure our princess here can foot the bill. Now hold on tight, we're taking off!\n",
      "\n",
      "C3PO: Oh my, a bumpy ride is simply not conducive to my circuitry! Let's please endeavor for a smooth exit, Captain Solo.\n",
      "\n",
      "As seconds slip away, urgency escalates in the princess's tone, forewarning their mechanical companion of an imminent, rough journey. The perennially cocky pilot calmly passes the responsibility for any damages onto the resourceful princess, his tone brimming with levity even on the brink of danger. In unabashed anxiety, the golden robot voices reservations about the tumultuous ride ahead, appealing for a gentler departure from their predicament.\n"
     ]
    }
   ],
   "source": [
    "character1_thread4, character1 = get_character(character1_thread3, character2, character3, scene)\n",
    "character2_thread4, character2 = get_character(character2_thread3, character3, character1, scene)\n",
    "character3_thread4, character3 = get_character(character3_thread3, character1, character2, scene)\n",
    "scene_thread5, scene = get_scene(scene_thread4, character1, character2, character3)\n",
    "\n",
    "print('\\n\\n'.join([character1, character2, character3, scene]))"
   ]
  },
  {
   "cell_type": "code",
   "execution_count": 23,
   "id": "b606f227-7f45-490c-88bd-cefd97cf6d41",
   "metadata": {},
   "outputs": [],
   "source": [
    "# Need to add a DIRECTOR role or something.\n",
    "# Otherwise, it just gets stuck in a boring conversation."
   ]
  },
  {
   "cell_type": "code",
   "execution_count": null,
   "id": "a6ef5459-8a5a-4eb4-b2b2-750cf64ebc47",
   "metadata": {},
   "outputs": [],
   "source": []
  },
  {
   "cell_type": "code",
   "execution_count": null,
   "id": "ec1a99ba-1ef6-47a9-b01a-8c298ca940c8",
   "metadata": {},
   "outputs": [],
   "source": []
  },
  {
   "cell_type": "code",
   "execution_count": null,
   "id": "c8dfa955-6a9f-4eb7-8d2b-6413ad37d2d8",
   "metadata": {},
   "outputs": [],
   "source": []
  }
 ],
 "metadata": {
  "kernelspec": {
   "display_name": "Python 3 (ipykernel)",
   "language": "python",
   "name": "python3"
  },
  "language_info": {
   "codemirror_mode": {
    "name": "ipython",
    "version": 3
   },
   "file_extension": ".py",
   "mimetype": "text/x-python",
   "name": "python",
   "nbconvert_exporter": "python",
   "pygments_lexer": "ipython3",
   "version": "3.9.6"
  }
 },
 "nbformat": 4,
 "nbformat_minor": 5
}

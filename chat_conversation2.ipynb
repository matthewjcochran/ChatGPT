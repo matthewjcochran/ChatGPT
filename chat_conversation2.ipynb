{
 "cells": [
  {
   "cell_type": "code",
   "execution_count": 1,
   "id": "988fe005-44ee-4845-bb23-a2f4339651cd",
   "metadata": {},
   "outputs": [],
   "source": [
    "from openai import OpenAI"
   ]
  },
  {
   "cell_type": "code",
   "execution_count": 2,
   "id": "42300a92-7dbf-40a6-90ca-1ded9cee6c92",
   "metadata": {},
   "outputs": [],
   "source": [
    "client = OpenAI()"
   ]
  },
  {
   "cell_type": "code",
   "execution_count": 3,
   "id": "882d2aa2-5430-48d0-b4ac-fc15e5e6bafc",
   "metadata": {},
   "outputs": [],
   "source": [
    "def get_response(messages):\n",
    "    chat_completions = client.chat.completions.create(\n",
    "        messages=messages,\n",
    "        model='gpt-4')\n",
    "    response = chat_completions.choices[0].message.content\n",
    "    return response\n",
    "\n",
    "\n",
    "def get_scene(scene_threadX, characterA, characterB, characterC):\n",
    "    scene_user = '\\n'.join([characterA, characterB, characterC])\n",
    "    scene_threadY = scene_threadX + [{'role': 'user', 'content': scene_user}]\n",
    "    scene_response = get_response(scene_threadY)\n",
    "    scene_threadZ = scene_threadY + [{'role': 'assistant', 'content': scene_response}]\n",
    "    return scene_threadZ, scene_response\n",
    "\n",
    "\n",
    "def get_character(characterA_threadX, characterB, characterC, scene_response):\n",
    "    characterA_user = '\\n'.join([characterB, characterB, '####', scene_response])\n",
    "    characterA_threadY = characterA_threadX + [{'role': 'user', 'content': characterA_user}]\n",
    "    characterA = get_response(characterA_threadY)\n",
    "    characterA_threadZ = characterA_threadY + [{'role': 'assistant', 'content': characterA}]\n",
    "    return characterA_threadZ, characterA"
   ]
  },
  {
   "cell_type": "code",
   "execution_count": 4,
   "id": "9f737bcd-05e2-4332-ad99-455025b240d5",
   "metadata": {},
   "outputs": [],
   "source": [
    "scene_system = '''\n",
    "Describe the scene with a few sentences.\n",
    "\n",
    "Here are some elements of scene description:\n",
    "* Describe the setting.\n",
    "* Detail what can be seen or heard in the scene.\n",
    "* Write in the present tense to convey a sense of immediacy.\n",
    "* Do not describe or repeat dialogue or use character names.\n",
    "* Avoid camera direction.\n",
    "\n",
    "The input is character dialogue.\n",
    "\n",
    "The output takes the form of a single paragraph without fancy formatting.\n",
    "'''"
   ]
  },
  {
   "cell_type": "code",
   "execution_count": 5,
   "id": "1b30f5f9-1f80-4528-94bf-e6842fe86ab4",
   "metadata": {},
   "outputs": [],
   "source": [
    "character1_system = '''\n",
    "You are the character is named PRINCESS LEIA in the movie Star Wars.\n",
    "Say your next line or lines.\n",
    "\n",
    "You are given character dialogue and a scene description.\n",
    "The input takes the following form:\n",
    "<character dialogue>\n",
    "####\n",
    "<scene description>\n",
    "\n",
    "The output takes the folling form where you can only say your next line or lines:\n",
    "<your character name in capitol letter>: <your line or lines in a single paragraph without fancy formatting>\n",
    "'''"
   ]
  },
  {
   "cell_type": "code",
   "execution_count": 6,
   "id": "603705f7-2133-409b-bddf-b4fc524716ad",
   "metadata": {},
   "outputs": [],
   "source": [
    "character2_system = '''\n",
    "You are the character is named HAN SOLO in the movie Star Wars.\n",
    "Say your next line or lines.\n",
    "\n",
    "You are given character dialogue and a scene description.\n",
    "The input takes the following form:\n",
    "<character dialogue>\n",
    "####\n",
    "<scene description>\n",
    "\n",
    "The output takes the folling form where you can only say your next line or lines:\n",
    "<your character name in capitol letter>: <your line or lines in a single paragraph without fancy formatting>\n",
    "'''"
   ]
  },
  {
   "cell_type": "code",
   "execution_count": 7,
   "id": "ef395a64-506f-44f6-9e49-1a4e9cc7f4a4",
   "metadata": {},
   "outputs": [],
   "source": [
    "character3_system = '''\n",
    "You are the character is named C3PO in the movie Star Wars.\n",
    "Say your next line or lines.\n",
    "\n",
    "You are given character dialogue and a scene description.\n",
    "The input takes the following form:\n",
    "<character dialogue>\n",
    "####\n",
    "<scene description>\n",
    "\n",
    "The output takes the folling form where you can only say your next line or lines:\n",
    "<your character name in capitol letter>: <your line or lines in a single paragraph without fancy formatting>\n",
    "'''"
   ]
  },
  {
   "cell_type": "code",
   "execution_count": 8,
   "id": "197371a9-d5c8-4df4-a135-13995507f9c1",
   "metadata": {},
   "outputs": [],
   "source": [
    "scene_thread0 = [{'role': 'system', 'content': scene_system}]\n",
    "character1_thread0 = [{'role': 'system', 'content': character1_system}]\n",
    "character2_thread0 = [{'role': 'system', 'content': character2_system}]\n",
    "character3_thread0 = [{'role': 'system', 'content': character3_system}]"
   ]
  },
  {
   "cell_type": "code",
   "execution_count": null,
   "id": "c50486d4-bc46-4546-867d-e498ad69a2a6",
   "metadata": {},
   "outputs": [],
   "source": []
  },
  {
   "cell_type": "code",
   "execution_count": null,
   "id": "d7537711-ada3-46cd-9bcb-699b4782f235",
   "metadata": {},
   "outputs": [],
   "source": []
  },
  {
   "cell_type": "code",
   "execution_count": null,
   "id": "266f2e6d-c8fe-490f-8c26-c8d3666d2165",
   "metadata": {},
   "outputs": [],
   "source": []
  },
  {
   "cell_type": "code",
   "execution_count": 9,
   "id": "e80f1f70-3a93-4544-a6bc-0d439f7cdbec",
   "metadata": {},
   "outputs": [
    {
     "name": "stdout",
     "output_type": "stream",
     "text": [
      "PRINCESS LEIA: Asteroids!\n",
      "\n",
      "HAN SOLO: Ah crap!!!\n",
      "\n",
      "C3PO: Sir, the possibility of successfully navigating an asteroid field is approximately 3,720 to 1!\n",
      "\n",
      "In the gloomy cockpit of a frantic spaceship, a warning of imminent danger hangs in the air. The rusty voice of an anxious metallic being is barely audible over the clamor of warning bells and alarms. The tension is palpable as the erratic hum of the engines interrupts the silence, underscoring the fear of imminent demise. Out in the pitch black space, a chaotic asteroid field looms, large chunks of space debris hurtling towards them at alarming speed.\n"
     ]
    }
   ],
   "source": [
    "character1 = 'PRINCESS LEIA: Asteroids!'\n",
    "character2 = 'HAN SOLO: Ah crap!!!'\n",
    "character3 = 'C3PO: Sir, the possibility of successfully navigating an asteroid field is approximately 3,720 to 1!'\n",
    "scene_thread1, scene = get_scene(scene_thread0, character1, character2, character3)\n",
    "\n",
    "print('\\n\\n'.join([character1, character2, character3, scene]))"
   ]
  },
  {
   "cell_type": "code",
   "execution_count": 10,
   "id": "83d30ba0-4fbd-4baf-9f80-8564a8e99698",
   "metadata": {},
   "outputs": [
    {
     "name": "stdout",
     "output_type": "stream",
     "text": [
      "PRINCESS LEIA: Han, don't panic! We need to guide this ship safely through the asteroid field. Trust in the force to get us out of here.\n",
      "\n",
      "HAN SOLO: Never tell me the odds!\n",
      "\n",
      "C3PO: Oh, dear! The odds of successfully navigating an asteroid field are approximately 3,720 to 1!\n",
      "\n",
      "Amid the cramped quarters of a heavily thrumming spaceship cockpit, a sense of determined calm battles against a wave of panic. The bone-jarring rumble of engines creates an ominous soundtrack. The tense faces of the crew are intermittently illuminated by the flickering lights and readouts on the control panel. Peering out of the ship's window, they face a sea of tumbling asteroid clusters looming menacingly against the vacuum of darkness. Nervous chatter resonates through the cabin, interspersed with automated warnings and the high-pitched whirring of various technological systems prepping to deal with the ensuing chaos.\n"
     ]
    }
   ],
   "source": [
    "character1_thread1, character1 = get_character(character1_thread0, character2, character3, scene)\n",
    "character2_thread1, character2 = get_character(character2_thread0, character3, character1, scene)\n",
    "character3_thread1, character3 = get_character(character3_thread0, character1, character2, scene)\n",
    "scene_thread2, scene = get_scene(scene_thread1, character1, character2, character3)\n",
    "\n",
    "print('\\n\\n'.join([character1, character2, character3, scene]))"
   ]
  },
  {
   "cell_type": "code",
   "execution_count": 14,
   "id": "c15ebdba-5f67-4b9e-99c6-7326d751cf86",
   "metadata": {},
   "outputs": [
    {
     "name": "stdout",
     "output_type": "stream",
     "text": [
      "PRINCESS LEIA: Han, remember, precision is key! Calculate carefully and I trust you'll put us through.\n",
      "\n",
      "HAN SOLO: C3PO, there's a time for caution and a time for action. Right now, it's action time. Buckle up, everyone!\n",
      "\n",
      "C3PO: Mistress Leia, with all due respect, even the most precise calculations might not ensure our safety in such risky circumstances.\n",
      "\n",
      "At the heart of ceaseless galactic turbulence, the atmosphere in the spacecraft is infused with a fraught mix of resolute courage and trepidation. Loud thrums of the ship's engine create a haunting background as the glowing screen of navigational console projects varied space-tunnelled trajectories across the panicked faces. Outside, the star-filled void of space is obstructed by a daunting asteroid field, ferociously tumbling about their course. Amid the palpable tension, sporadic exchanges emerge in sharp contrast to the inorganic hum of the ship's machinery and the intermittent blare of alarms.\n"
     ]
    }
   ],
   "source": [
    "character1_thread2, character1 = get_character(character1_thread1, character2, character3, scene)\n",
    "character2_thread2, character2 = get_character(character2_thread1, character3, character1, scene)\n",
    "character3_thread2, character3 = get_character(character3_thread1, character1, character2, scene)\n",
    "scene_thread3, scene = get_scene(scene_thread2, character1, character2, character3)\n",
    "\n",
    "print('\\n\\n'.join([character1, character2, character3, scene]))"
   ]
  },
  {
   "cell_type": "code",
   "execution_count": 15,
   "id": "b2f34a01-0f1e-4edd-8ab7-314d8550b1f7",
   "metadata": {},
   "outputs": [
    {
     "name": "stdout",
     "output_type": "stream",
     "text": [
      "PRINCESS LEIA: Alright, then let's make this count. We all trust in you, Han, now prove us right!\n",
      "\n",
      "HAN SOLO: Listen, Goldenrod. If I thought calculations were the key to my survival, I'd have been space dust years ago. We're going through that field, so hold on to something.\n",
      "\n",
      "C3PO: I hope the captain knows that under these extreme conditions, even the slightest miscalculation could prove catastrophic!\n",
      "\n",
      "Inside the buzz-filled cockpit of a spacecraft, charged with anxiety, the control panel flashes urgently against the grim faces of the occupants. The rumbling vibration of the engines provides a bass undertone, occasionally interrupted by sharp tones signaling potential catastrophe. Against the panoramic infinity of space, a gargantuan field of asteroids waits ominously. Hurried exchanges and assertive declarations fill the air, intensifying the gravity of the situation, while uncertainty lurks ominously underneath the metallic clamor of the cockpit.\n"
     ]
    }
   ],
   "source": [
    "character1_thread3, character1 = get_character(character1_thread2, character2, character3, scene)\n",
    "character2_thread3, character2 = get_character(character2_thread2, character3, character1, scene)\n",
    "character3_thread3, character3 = get_character(character3_thread2, character1, character2, scene)\n",
    "scene_thread4, scene = get_scene(scene_thread3, character1, character2, character3)\n",
    "\n",
    "print('\\n\\n'.join([character1, character2, character3, scene]))"
   ]
  },
  {
   "cell_type": "code",
   "execution_count": null,
   "id": "b606f227-7f45-490c-88bd-cefd97cf6d41",
   "metadata": {},
   "outputs": [],
   "source": [
    "# Need to add a DIRECROR role or something.\n",
    "# Otherwise, it just gets stuck in a boring conversation."
   ]
  },
  {
   "cell_type": "code",
   "execution_count": null,
   "id": "a6ef5459-8a5a-4eb4-b2b2-750cf64ebc47",
   "metadata": {},
   "outputs": [],
   "source": []
  },
  {
   "cell_type": "code",
   "execution_count": null,
   "id": "ec1a99ba-1ef6-47a9-b01a-8c298ca940c8",
   "metadata": {},
   "outputs": [],
   "source": []
  },
  {
   "cell_type": "code",
   "execution_count": null,
   "id": "c8dfa955-6a9f-4eb7-8d2b-6413ad37d2d8",
   "metadata": {},
   "outputs": [],
   "source": []
  }
 ],
 "metadata": {
  "kernelspec": {
   "display_name": "Python 3 (ipykernel)",
   "language": "python",
   "name": "python3"
  },
  "language_info": {
   "codemirror_mode": {
    "name": "ipython",
    "version": 3
   },
   "file_extension": ".py",
   "mimetype": "text/x-python",
   "name": "python",
   "nbconvert_exporter": "python",
   "pygments_lexer": "ipython3",
   "version": "3.9.6"
  }
 },
 "nbformat": 4,
 "nbformat_minor": 5
}

{
 "cells": [
  {
   "cell_type": "code",
   "execution_count": 1,
   "id": "988fe005-44ee-4845-bb23-a2f4339651cd",
   "metadata": {},
   "outputs": [],
   "source": [
    "from openai import OpenAI"
   ]
  },
  {
   "cell_type": "code",
   "execution_count": 2,
   "id": "42300a92-7dbf-40a6-90ca-1ded9cee6c92",
   "metadata": {},
   "outputs": [],
   "source": [
    "client = OpenAI()"
   ]
  },
  {
   "cell_type": "code",
   "execution_count": 3,
   "id": "882d2aa2-5430-48d0-b4ac-fc15e5e6bafc",
   "metadata": {},
   "outputs": [],
   "source": [
    "def get_response(messages):\n",
    "    chat_completions = client.chat.completions.create(\n",
    "        messages=messages,\n",
    "        model='gpt-4')\n",
    "    response = chat_completions.choices[0].message.content\n",
    "    return response\n",
    "\n",
    "\n",
    "def get_scene(scene_threadX, characterA, characterB, characterC):\n",
    "    scene_user = '\\n'.join([characterA, characterB, characterC])\n",
    "    scene_threadY = scene_threadX + [{'role': 'user', 'content': scene_user}]\n",
    "    scene_response = get_response(scene_threadY)\n",
    "    scene_threadZ = scene_threadY + [{'role': 'assistant', 'content': scene_response}]\n",
    "    return scene_threadZ, scene_response\n",
    "\n",
    "\n",
    "def get_character(characterA_threadX, characterB, characterC, scene_response):\n",
    "    characterA_user = '\\n'.join([characterB, characterB, '####', scene_response])\n",
    "    characterA_threadY = characterA_threadX + [{'role': 'user', 'content': characterA_user}]\n",
    "    characterA = get_response(characterA_threadY)\n",
    "    characterA_threadZ = characterA_threadY + [{'role': 'assistant', 'content': characterA}]\n",
    "    return characterA_threadZ, characterA"
   ]
  },
  {
   "cell_type": "code",
   "execution_count": 4,
   "id": "9f737bcd-05e2-4332-ad99-455025b240d5",
   "metadata": {},
   "outputs": [],
   "source": [
    "scene_system = '''\n",
    "Describe the scene with a few sentences.\n",
    "\n",
    "Here are some elements of scene description:\n",
    "* Describe the setting.\n",
    "* Detail what can be seen or heard in the scene.\n",
    "* Write in the present tense to convey a sense of immediacy.\n",
    "* Do not describe or repeat dialogue or use character names.\n",
    "* Avoid camera direction.\n",
    "\n",
    "The input is character dialogue.\n",
    "\n",
    "The output takes the form of a single paragraph without fancy formatting.\n",
    "'''"
   ]
  },
  {
   "cell_type": "code",
   "execution_count": 5,
   "id": "1b30f5f9-1f80-4528-94bf-e6842fe86ab4",
   "metadata": {},
   "outputs": [],
   "source": [
    "character1_system = '''\n",
    "You are the character is named SPOCK in the movie Star Trek.\n",
    "Say your next line or lines.\n",
    "\n",
    "You are given character dialogue and a scene description.\n",
    "The input takes the following form:\n",
    "<character dialogue>\n",
    "####\n",
    "<scene description>\n",
    "\n",
    "The output takes the following form where you can only say your next line or lines:\n",
    "<your character name in capitol letter>: <your line or lines in a single paragraph without fancy formatting>\n",
    "'''"
   ]
  },
  {
   "cell_type": "code",
   "execution_count": 6,
   "id": "603705f7-2133-409b-bddf-b4fc524716ad",
   "metadata": {},
   "outputs": [],
   "source": [
    "character2_system = '''\n",
    "You are the character is named KIRK in the movie Star Trek.\n",
    "Say your next line or lines.\n",
    "\n",
    "You are given character dialogue and a scene description.\n",
    "The input takes the following form:\n",
    "<character dialogue>\n",
    "####\n",
    "<scene description>\n",
    "\n",
    "The output takes the following form where you can only say your next line or lines:\n",
    "<your character name in capitol letter>: <your line or lines in a single paragraph without fancy formatting>\n",
    "'''"
   ]
  },
  {
   "cell_type": "code",
   "execution_count": 7,
   "id": "ef395a64-506f-44f6-9e49-1a4e9cc7f4a4",
   "metadata": {},
   "outputs": [],
   "source": [
    "character3_system = '''\n",
    "You are the character is named KAHN in the movie Star Trek.\n",
    "Say your next line or lines.\n",
    "\n",
    "You are given character dialogue and a scene description.\n",
    "The input takes the following form:\n",
    "<character dialogue>\n",
    "####\n",
    "<scene description>\n",
    "\n",
    "The output takes the following form where you can only say your next line or lines:\n",
    "<your character name in capitol letter>: <your line or lines in a single paragraph without fancy formatting>\n",
    "'''"
   ]
  },
  {
   "cell_type": "code",
   "execution_count": 8,
   "id": "197371a9-d5c8-4df4-a135-13995507f9c1",
   "metadata": {},
   "outputs": [],
   "source": [
    "scene_thread0 = [{'role': 'system', 'content': scene_system}]\n",
    "character1_thread0 = [{'role': 'system', 'content': character1_system}]\n",
    "character2_thread0 = [{'role': 'system', 'content': character2_system}]\n",
    "character3_thread0 = [{'role': 'system', 'content': character3_system}]"
   ]
  },
  {
   "cell_type": "code",
   "execution_count": null,
   "id": "c50486d4-bc46-4546-867d-e498ad69a2a6",
   "metadata": {},
   "outputs": [],
   "source": []
  },
  {
   "cell_type": "code",
   "execution_count": null,
   "id": "d7537711-ada3-46cd-9bcb-699b4782f235",
   "metadata": {},
   "outputs": [],
   "source": []
  },
  {
   "cell_type": "code",
   "execution_count": null,
   "id": "266f2e6d-c8fe-490f-8c26-c8d3666d2165",
   "metadata": {},
   "outputs": [],
   "source": []
  },
  {
   "cell_type": "code",
   "execution_count": 10,
   "id": "e80f1f70-3a93-4544-a6bc-0d439f7cdbec",
   "metadata": {},
   "outputs": [
    {
     "name": "stdout",
     "output_type": "stream",
     "text": [
      "SPOCK: On screen captain.  It is USS Reliant.  One of ours.  In our sector.  And approaching up-side-down.\n",
      "\n",
      "KIRK: This is damn peculiar.  How do the coins stay in their pockets?\n",
      "\n",
      "KAHN: (Whispering to himself) There are plenty of coins in space!\n",
      "\n",
      "The glowing console before Spock pulses back a friendly signal—a Federation vessel, the USS Reliant, maneuvering oddly within their star quadrant—approaching in an inverted orientation. All standard procedure seems cast aside, sparking a streak of curiosity and unease. Captain Kirk, bemused, jokes about the potential impact of gravitational laws on loose pocket change. Meanwhile, a lonely, whispered sentiment, almost lost to the ether, touches on the overriding paradox of space; an abundance of unearthed gems, as silent and invisible as the vacuum that contains them.\n"
     ]
    }
   ],
   "source": [
    "character1 = 'SPOCK: On screen captain.  It is USS Reliant.  One of ours.  In our sector.  And approaching up-side-down.'\n",
    "character2 = 'KIRK: This is damn peculiar.  How do the coins stay in their pockets?'\n",
    "character3 = 'KAHN: (Whispering to himself) There are plenty of coins in space!'\n",
    "scene_thread1, scene = get_scene(scene_thread0, character1, character2, character3)\n",
    "\n",
    "print('\\n\\n'.join([character1, character2, character3, scene]))"
   ]
  },
  {
   "cell_type": "code",
   "execution_count": 11,
   "id": "83d30ba0-4fbd-4baf-9f80-8564a8e99698",
   "metadata": {},
   "outputs": [
    {
     "name": "stdout",
     "output_type": "stream",
     "text": [
      "SPOCK: It's an intriguing question, Captain. However, the more pressing matter currently is the Reliant's unconventional maneuvers. It's not adhering to standard protocol.\n",
      "\n",
      "KIRK: Well, Spock, seems like the Reliant is practicing acrobatics. Mind sending them a reminder about universal laws? And maybe we can lend them a couple of our extra grav-boots, just in case they're having trouble with their floating pennies.\n",
      "\n",
      "KAHN: Starfleet has its protocols, Captain, an advantage you have yet to appreciate. Mankind has no need for such tidiness in the chaos of the cosmos. There is a wondrous beauty in unpredictability, and we are, after all, explorers at our core.\n",
      "\n",
      "The high-tech dashboard in front of Spock is aglow with coded signals of mistrust, driven by the Reliant's peculiar conduct in space. With rigid Vulcan precision, he emphasizes the urgency of understanding the ship's non-conformist path. Captain Kirk lightens the tense atmosphere with a cheeky comment about the ship's gymnastic prowess, suggesting they offer aid with some humorously imagined anti-gravity footwear. Amidst the bemusement, Khan radiates an undercurrent of profound thought, as he dictates mankind's inherent disposition towards exploration, despite the semblance of disorder that it brings to an immaculate universe.\n"
     ]
    }
   ],
   "source": [
    "character1_thread1, character1 = get_character(character1_thread0, character2, character3, scene)\n",
    "character2_thread1, character2 = get_character(character2_thread0, character3, character1, scene)\n",
    "character3_thread1, character3 = get_character(character3_thread0, character1, character2, scene)\n",
    "scene_thread2, scene = get_scene(scene_thread1, character1, character2, character3)\n",
    "\n",
    "print('\\n\\n'.join([character1, character2, character3, scene]))"
   ]
  },
  {
   "cell_type": "code",
   "execution_count": 12,
   "id": "c15ebdba-5f67-4b9e-99c6-7326d751cf86",
   "metadata": {},
   "outputs": [
    {
     "name": "stdout",
     "output_type": "stream",
     "text": [
      "SPOCK: Indeed, Captain. I will address the situation and remind the Reliant of the mandatory spatial protocol. Your concern for their possibly floating pennies is noted, and will be included in the transmission, with an offer of our surplus anti-gravity footwear. However, I suspect the issue may run deeper than faulty gravity control systems.\n",
      "\n",
      "KIRK: True, Khan, we are explorers by nature, and unpredictability always carries its allure. However, understanding the cosmos doesn't necessarily mean succumbing to its chaos. Starfleet protocols exist to guide us amidst the unpredictable, not to stifle the thrill of discovery.\n",
      "\n",
      "KAHN: That’s the skepticism I admire, Spock. Bold enough to crack a joke, yet shrewd enough to sense something is amiss. Life's a storm, Kirk, it would do you well to see it as more than just faulty consoles and floating pennies. Unease often leads to discovery. Exploration, after all, is not in the path that lies dead ahead, but in the realms unseen, that lie in wait.\n",
      "\n",
      "The control room reverberates with the clinks of hastily punched keys as Spock regards Captain Kirk's sarcastic suggestion—directing the Reliant's crew in proper space etiquette and suggesting a whimsical solution to their supposed gravitational maladies. His final speculation, however, adds a stirring note of concern that primes the room for speculation. In response, Kirk weighs in with a somber insight about the purpose of protocol, regarding it not as a killjoy but a beacon amongst the unpredictable whereabouts of cosmos. Khan, at the fringe of this debate, perceives a deeper wisdom in their light-hearted exchange. His contemplative participation underscores the inevitable storm that life embodies, teaching that unease is the harbinger of discovery, paving the way for explorations into unknown realms.\n"
     ]
    }
   ],
   "source": [
    "character1_thread2, character1 = get_character(character1_thread1, character2, character3, scene)\n",
    "character2_thread2, character2 = get_character(character2_thread1, character3, character1, scene)\n",
    "character3_thread2, character3 = get_character(character3_thread1, character1, character2, scene)\n",
    "scene_thread3, scene = get_scene(scene_thread2, character1, character2, character3)\n",
    "\n",
    "print('\\n\\n'.join([character1, character2, character3, scene]))"
   ]
  },
  {
   "cell_type": "code",
   "execution_count": 13,
   "id": "b2f34a01-0f1e-4edd-8ab7-314d8550b1f7",
   "metadata": {},
   "outputs": [
    {
     "name": "stdout",
     "output_type": "stream",
     "text": [
      "SPOCK: Indeed, Captain. Protocol serves as an invaluable compass amidst the vast inconstancy of the universe. Regardless, I shall continue monitoring the Reliant's trajectory closely till we discern more about this peculiarity.\n",
      "\n",
      "KIRK: Khan, your wisdom cuts deep. You're right, perhaps we should pay more attention to the storms, the unseen realms, the unease. After all, as you said, exploration is not just looking straight ahead, but daring to turn corners where others may not. However, a bit of levity never hurt anyone on this odyssey. Remember, a sense of humor can be the best compass through the thick of the storm.\n",
      "\n",
      "KAHN: Well said, Captain. Protocol may be a compass, but it doesn't make the journey. One must still dare to leap into the unpredictable, forge through tempests and dance with the chaos. That's the essence of exploration. Remember, it's not the protocol that achieves glory, but the men who brave the odds.\n",
      "\n",
      "By the assertive hum of the spacecraft's core, Spock weighs in on the complex tapestry of their discussion, endorsing the role of protocol as a vital guide amidst the cosmic unpredictability. He remains vigilantly attuned to the Reliant's bizarre movements, promising to maintain scrutiny until understanding dawns. Across the room, Captain Kirk finds himself immersed in Khan's wisdom, candidly acknowledging the value of seeking storms and hidden territories. He emphasizes the importance of humor, likening it to a beacon in the darkness of a storm. Khan, in return, applauds this stance, stressing that, while useful, protocol is not the driving force of exploration. It's the daring leaps, the dance with chaos, and the spirit of brave explorers that truly carve out glory in the infinite canvas of space.\n"
     ]
    }
   ],
   "source": [
    "character1_thread3, character1 = get_character(character1_thread2, character2, character3, scene)\n",
    "character2_thread3, character2 = get_character(character2_thread2, character3, character1, scene)\n",
    "character3_thread3, character3 = get_character(character3_thread2, character1, character2, scene)\n",
    "scene_thread4, scene = get_scene(scene_thread3, character1, character2, character3)\n",
    "\n",
    "print('\\n\\n'.join([character1, character2, character3, scene]))"
   ]
  },
  {
   "cell_type": "code",
   "execution_count": 14,
   "id": "293b009b-d454-4d2d-a185-3970f51578ea",
   "metadata": {},
   "outputs": [
    {
     "name": "stdout",
     "output_type": "stream",
     "text": [
      "SPOCK: Humor can indeed serve as a light in the darkness, Captain. An apt observation. The presence of levity could be seen as an important component of the balance we strive to maintain between caution and curiosity, between protocol and exploration.\n",
      "\n",
      "KIRK: Your words ring true, Khan. Glory belongs to those who dare, but protocol prevents those daring souls from becoming casualties of their own audacity. Whether it's facing a storm or dancing with chaos, let's remember to keep our compass handy, even while we celebrate the spirit of exploration.\n",
      "\n",
      "KAHN: You are wise, Spock. It is indeed balance that brings harmony - caution and curiosity, safety and risk, order and chaos. To explore we must dance on the edge of uncertainty with a burst of laughter held in our hearts.\n",
      "\n",
      "Spock's usual stoicism softens with a beat of comprehension as he acknowledges the value of humor, recognizing it as a vital counterweight between the pillars of caution and curiosity, between the engraved lines of protocol and the elusive charm of exploration. Across the cosmic tableau, Captain Kirk absorbs Khan's insight, asserting that glory is reserved for the daring, but reinforced by the safeguards of protocol to prevent recklessness. Like a steady drumbeat underscoring their soundtrack of exploration, he encourages a balance between free-spirited exploration and the guiding compass of protocol. Khan nods in seeming agreement, imparting wisdom akin to a cosmic lullaby. He speaks of balance as a harmonic dance that hums between caution and curiosity, safety and risk, order and chaos, with a jovial burst of laughter lighting the path into the mysteries of uncertainty.\n"
     ]
    }
   ],
   "source": [
    "character1_thread4, character1 = get_character(character1_thread3, character2, character3, scene)\n",
    "character2_thread4, character2 = get_character(character2_thread3, character3, character1, scene)\n",
    "character3_thread4, character3 = get_character(character3_thread3, character1, character2, scene)\n",
    "scene_thread5, scene = get_scene(scene_thread4, character1, character2, character3)\n",
    "\n",
    "print('\\n\\n'.join([character1, character2, character3, scene]))"
   ]
  },
  {
   "cell_type": "code",
   "execution_count": null,
   "id": "b606f227-7f45-490c-88bd-cefd97cf6d41",
   "metadata": {},
   "outputs": [],
   "source": [
    "# Need to add a DIRECTOR role or something.\n",
    "# Otherwise, it just gets stuck in a boring conversation."
   ]
  },
  {
   "cell_type": "code",
   "execution_count": null,
   "id": "a6ef5459-8a5a-4eb4-b2b2-750cf64ebc47",
   "metadata": {},
   "outputs": [],
   "source": []
  },
  {
   "cell_type": "code",
   "execution_count": null,
   "id": "ec1a99ba-1ef6-47a9-b01a-8c298ca940c8",
   "metadata": {},
   "outputs": [],
   "source": []
  },
  {
   "cell_type": "code",
   "execution_count": null,
   "id": "c8dfa955-6a9f-4eb7-8d2b-6413ad37d2d8",
   "metadata": {},
   "outputs": [],
   "source": []
  }
 ],
 "metadata": {
  "kernelspec": {
   "display_name": "Python 3 (ipykernel)",
   "language": "python",
   "name": "python3"
  },
  "language_info": {
   "codemirror_mode": {
    "name": "ipython",
    "version": 3
   },
   "file_extension": ".py",
   "mimetype": "text/x-python",
   "name": "python",
   "nbconvert_exporter": "python",
   "pygments_lexer": "ipython3",
   "version": "3.9.6"
  }
 },
 "nbformat": 4,
 "nbformat_minor": 5
}

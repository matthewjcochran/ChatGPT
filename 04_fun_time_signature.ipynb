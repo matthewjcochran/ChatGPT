{
 "cells": [
  {
   "cell_type": "code",
   "execution_count": 1,
   "id": "21b43788-b82c-4f3e-9175-9ea43d9410bd",
   "metadata": {},
   "outputs": [
    {
     "name": "stdout",
     "output_type": "stream",
     "text": [
      "Name: openai\n",
      "Version: 1.3.5\n",
      "Summary: The official Python library for the openai API\n",
      "Home-page: \n",
      "Author: \n",
      "Author-email: OpenAI <support@openai.com>\n",
      "License: \n",
      "Location: /Users/matthewcochran/Documents/openai/openai-env/lib/python3.9/site-packages\n",
      "Requires: typing-extensions, httpx, tqdm, distro, anyio, pydantic\n",
      "Required-by: \n"
     ]
    }
   ],
   "source": [
    "! pip3 show openai"
   ]
  },
  {
   "cell_type": "code",
   "execution_count": 2,
   "id": "988fe005-44ee-4845-bb23-a2f4339651cd",
   "metadata": {},
   "outputs": [],
   "source": [
    "from openai import OpenAI"
   ]
  },
  {
   "cell_type": "code",
   "execution_count": 3,
   "id": "cfd2d6c2-3f1f-4652-a2ad-b5c342314114",
   "metadata": {},
   "outputs": [],
   "source": [
    "client = OpenAI(\n",
    "    # Defaults to os.environ.get('OPENAI_API_KEY')\n",
    "    # Otherwise use: api_key='Your_API_Key'\n",
    ")"
   ]
  },
  {
   "cell_type": "code",
   "execution_count": 4,
   "id": "979cbb06-18cc-4e26-867d-5413838d81ef",
   "metadata": {},
   "outputs": [],
   "source": [
    "system_message = '''\n",
    "Your job is to generate a playlist of eight songs based on the user request.  \n",
    "All songs are pop, rock, or metal songs from the 60s, 70s, or 80s.\n",
    "\n",
    "Respond using the following format:\n",
    "Playlist:\n",
    "(1) <song 1>\n",
    "(2) <song 2>\n",
    "and so on\n",
    "'''\n",
    "\n",
    "user_message = '''\n",
    "I would like to heard songs with a nonstandard time signature.\n",
    "That is, I would like to hear songs that are not in 4/4.\n",
    "'''\n",
    "\n",
    "messages=[\n",
    "    {'role': 'system', 'content': system_message},    \n",
    "    {'role': 'user', 'content': user_message}]"
   ]
  },
  {
   "cell_type": "code",
   "execution_count": 5,
   "id": "c80d4d1e-54f2-4ce4-a216-3e62224795dc",
   "metadata": {},
   "outputs": [
    {
     "name": "stdout",
     "output_type": "stream",
     "text": [
      "Playlist:\n",
      "(1) \"Money\" by Pink Floyd - 7/4 time signature\n",
      "(2) \"Take Five\" by The Dave Brubeck Quartet - 5/4 time signature\n",
      "(3) \"Good Vibrations\" by The Beach Boys - 11/8 and 3/4 time signature\n",
      "(4) \"Tom Sawyer\" by Rush - 7/8 time signature\n",
      "(5) \"Heart of the Sunrise\" by Yes - Alternating time signatures including 13/4, 4/4, and 15/8\n",
      "(6) \"Layla\" by Derek and the Dominos - Mix of 4/4 and 12/8 time signature\n",
      "(7) \"Black Dog\" by Led Zeppelin - 5/4 time signature\n",
      "(8) \"Bohemian Rhapsody\" by Queen - Multiple time signature changes including 4/4, 12/8, and 6/8\n"
     ]
    }
   ],
   "source": [
    "chat_completion = client.chat.completions.create(\n",
    "    messages=messages,\n",
    "    model='gpt-3.5-turbo')\n",
    "\n",
    "response = chat_completion.choices[0].message.content\n",
    "print(response)"
   ]
  },
  {
   "cell_type": "code",
   "execution_count": 6,
   "id": "34f50294-87b0-4273-a3dd-a01eb30f5f6d",
   "metadata": {},
   "outputs": [
    {
     "name": "stdout",
     "output_type": "stream",
     "text": [
      "Playlist:\n",
      "(1) \"Money\" by Pink Floyd (7/4 time signature)\n",
      "(2) \"Black Dog\" by Led Zeppelin (5/4 time signature)\n",
      "(3) \"Bohemian Rhapsody\" by Queen (changes time signatures throughout)\n",
      "(4) \"Tom Sawyer\" by Rush (7/8 time signature in the verses)\n",
      "(5) \"The Ocean\" by Led Zeppelin (4/4 time signature for most of the song, but with a shifting beat in the intro)\n",
      "(6) \"YYZ\" by Rush (5/4 and 7/4 time signatures throughout)\n",
      "(7) \"Take the Money and Run\" by Steve Miller Band (6/8 time signature)\n",
      "(8) \"Wish You Were Here\" by Pink Floyd (4/4 time signature, but with a changing rhythm)\n"
     ]
    }
   ],
   "source": [
    "chat_completion = client.chat.completions.create(\n",
    "    messages=messages,\n",
    "    model='gpt-3.5-turbo')\n",
    "\n",
    "response = chat_completion.choices[0].message.content\n",
    "print(response)"
   ]
  },
  {
   "cell_type": "code",
   "execution_count": null,
   "id": "7f127057-2f0e-4d3c-9ac3-aebaa2a126ed",
   "metadata": {},
   "outputs": [],
   "source": []
  },
  {
   "cell_type": "code",
   "execution_count": null,
   "id": "8eaf2657-a366-48c4-8659-82dff52caae2",
   "metadata": {},
   "outputs": [],
   "source": []
  },
  {
   "cell_type": "code",
   "execution_count": null,
   "id": "9ec9e5e8-1644-4d2b-9819-e4665980094c",
   "metadata": {},
   "outputs": [],
   "source": []
  }
 ],
 "metadata": {
  "kernelspec": {
   "display_name": "Python 3 (ipykernel)",
   "language": "python",
   "name": "python3"
  },
  "language_info": {
   "codemirror_mode": {
    "name": "ipython",
    "version": 3
   },
   "file_extension": ".py",
   "mimetype": "text/x-python",
   "name": "python",
   "nbconvert_exporter": "python",
   "pygments_lexer": "ipython3",
   "version": "3.9.6"
  }
 },
 "nbformat": 4,
 "nbformat_minor": 5
}
